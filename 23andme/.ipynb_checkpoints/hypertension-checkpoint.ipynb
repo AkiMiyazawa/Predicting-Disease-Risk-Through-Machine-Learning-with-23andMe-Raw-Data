{
 "cells": [
  {
   "cell_type": "markdown",
   "metadata": {},
   "source": [
    "## In this notebook, I will be preprocessing data and training model to predict Hypertension risk for 23andme users"
   ]
  },
  {
   "cell_type": "code",
   "execution_count": 1,
   "metadata": {},
   "outputs": [],
   "source": [
    "import pandas as pd\n",
    "import numpy as np\n",
    "import matplotlib.pyplot as plt\n",
    "import seaborn as sns\n",
    "import random \n",
    "\n",
    "from sklearn.model_selection import train_test_split\n",
    "from sklearn import linear_model\n",
    "from sklearn.ensemble import RandomForestClassifier\n",
    "from sklearn import svm\n",
    "from sklearn.neighbors import KNeighborsClassifier\n",
    "from sklearn import tree\n",
    "from sklearn.neural_network import MLPClassifier\n",
    "from sklearn.naive_bayes import GaussianNB\n",
    "from xgboost import XGBClassifier\n",
    "from sklearn.metrics import f1_score\n",
    "from sklearn.model_selection import GridSearchCV\n",
    "from sklearn.model_selection import RandomizedSearchCV\n",
    "from sklearn.metrics import roc_curve\n",
    "from sklearn import metrics\n",
    "from sklearn.metrics import roc_auc_score\n",
    "from sklearn.metrics import classification_report\n",
    "\n",
    "import warnings\n",
    "warnings.filterwarnings(\"ignore\")"
   ]
  },
  {
   "cell_type": "code",
   "execution_count": 2,
   "metadata": {},
   "outputs": [],
   "source": [
    "# load datasets\n",
    "df = pd.read_csv('data/efotraits_EFO_0000537-associations-2021-06-17.csv')\n",
    "\n",
    "# process dataset \n",
    "cols_to_keep = ['Variant and risk allele', 'RAF', 'Beta']\n",
    "df = df.drop(df.columns.difference(cols_to_keep), axis=1)\n",
    "df = df.replace('NR',np.nan)\n",
    "df = df.replace(\"'-\",np.nan)\n",
    "df = df.dropna()\n",
    "\n",
    "df = df.rename(columns = {'Variant and risk allele':'id','RAF':'raf', 'Beta':'beta'})\n",
    "\n",
    "df['allele'] = df['id'].str.split(\"<b>\", 1, expand=True)[1].str[0]\n",
    "df['id'] = df['id'].str.split(\"-\", 1, expand=True)\n",
    "df['beta'] = df['beta'].str.split(\" \", 1, expand=True)\n",
    "\n",
    "df = df.replace(\"?\",np.nan)\n",
    "df = df.dropna()\n",
    "\n",
    "df['raf'] = df['raf'].astype(float)\n",
    "df['beta'] = df['beta'].astype(float)\n",
    "\n",
    "# save dataframe to csv\n",
    "df.to_csv('data/EFO_0000537.csv')"
   ]
  },
  {
   "cell_type": "code",
   "execution_count": 3,
   "metadata": {},
   "outputs": [
    {
     "name": "stdout",
     "output_type": "stream",
     "text": [
      "631955\n"
     ]
    }
   ],
   "source": [
    "user_data_1 = pd.read_csv('example1.txt', sep='\\t', dtype={'rsid':'str', 'chromosome':'object', 'position':'int', 'genotype':'str'}, comment='#', names = ['rsid', 'chromosome', 'position', 'genotype'])\n",
    "user_snps_1 = user_data_1['rsid'].tolist()\n",
    "print(len(user_snps_1))"
   ]
  },
  {
   "cell_type": "code",
   "execution_count": 4,
   "metadata": {},
   "outputs": [
    {
     "name": "stdout",
     "output_type": "stream",
     "text": [
      "['rs7406910', 'rs7565329', 'rs820430', 'rs891511', 'rs11537751', 'rs11099098', 'rs17249754', 'rs17046380', 'rs17755650', 'rs13139571', 'rs4905794', 'rs2932538', 'rs2681472', 'rs35444', 'rs1887320', 'rs11014166', 'rs11191548', 'rs2119704', 'rs6021247', 'rs7302981', 'rs11191593', 'rs62524579', 'rs11775334', 'rs1173771', 'rs11191580', 'rs28495639', 'rs1799945', 'rs4728142', 'rs9943291', 'rs1458038', 'rs880315', 'rs16998073', 'rs633185', 'rs13002573', 'rs2521501', 'rs4409766', 'rs2681492', 'rs6825911', 'rs932764', 'rs1327235', 'rs17030613', 'rs2972146', 'rs9349379', 'rs13333226', 'rs805303', 'rs16849225', 'rs4387287']\n",
      "47\n"
     ]
    }
   ],
   "source": [
    "data_snps = df['id'].tolist()\n",
    "row_to_keep = list(set(user_snps_1) & set(data_snps))\n",
    "print(row_to_keep)\n",
    "print(len(row_to_keep))"
   ]
  },
  {
   "cell_type": "code",
   "execution_count": 5,
   "metadata": {},
   "outputs": [],
   "source": [
    "df = df[df['id'].isin(row_to_keep)]"
   ]
  },
  {
   "cell_type": "code",
   "execution_count": 6,
   "metadata": {},
   "outputs": [],
   "source": [
    "mapping = {}\n",
    "for _, row in df.iterrows():\n",
    "    if row['id'] not in mapping:\n",
    "        mapping[row['id']] = [row['allele']]\n",
    "    else:\n",
    "        if row['allele'] not in mapping[row['id']]:\n",
    "            mapping[row['id']].append(row['allele'])\n"
   ]
  },
  {
   "cell_type": "code",
   "execution_count": 7,
   "metadata": {},
   "outputs": [
    {
     "name": "stdout",
     "output_type": "stream",
     "text": [
      "{'rs4905794': ['G'], 'rs2119704': ['A'], 'rs17755650': ['T'], 'rs7565329': ['T'], 'rs11775334': ['A'], 'rs2681472': ['A'], 'rs11014166': ['A'], 'rs9943291': ['G'], 'rs16998073': ['A'], 'rs880315': ['T'], 'rs17046380': ['T'], 'rs891511': ['A'], 'rs11537751': ['T'], 'rs7302981': ['A'], 'rs28495639': ['A'], 'rs62524579': ['A'], 'rs17030613': ['A'], 'rs16849225': ['T'], 'rs13139571': ['A'], 'rs17249754': ['A'], 'rs6825911': ['T'], 'rs1327235': ['A'], 'rs6021247': ['A'], 'rs1887320': ['A'], 'rs13002573': ['A'], 'rs2681492': ['T'], 'rs820430': ['A'], 'rs633185': ['C', 'G'], 'rs4409766': ['T'], 'rs35444': ['A'], 'rs11191548': ['T'], 'rs11191580': ['T'], 'rs11191593': ['T'], 'rs1458038': ['T'], 'rs11099098': ['T'], 'rs9349379': ['A'], 'rs4728142': ['A'], 'rs4387287': ['A'], 'rs7406910': ['T'], 'rs13333226': ['A'], 'rs2972146': ['T'], 'rs1799945': ['G'], 'rs1173771': ['G'], 'rs932764': ['G'], 'rs2932538': ['G'], 'rs805303': ['G'], 'rs2521501': ['T']}\n"
     ]
    }
   ],
   "source": [
    "print(mapping)"
   ]
  },
  {
   "cell_type": "markdown",
   "metadata": {},
   "source": [
    "## Simulate data"
   ]
  },
  {
   "cell_type": "code",
   "execution_count": 8,
   "metadata": {},
   "outputs": [],
   "source": [
    "cols_to_keep = ['id', 'raf', 'beta']\n",
    "df = df.drop(df.columns.difference(cols_to_keep), axis=1)\n",
    "df = df.drop_duplicates(subset=['id'])"
   ]
  },
  {
   "cell_type": "code",
   "execution_count": 63,
   "metadata": {},
   "outputs": [],
   "source": [
    "# risk labels, 0=low, 1=medium, 2=high\n",
    "risk_labels = [0, 1, 2]\n",
    "\n",
    "# proportion/probability of each risk (the lower the risk the more common)\n",
    "risk_prob = [0.55, 0.35, 0.1]\n",
    "\n",
    "# varying probabilities of having SNPs\n",
    "low_risk_bias = np.arange(0, 0.7, 0.05)\n",
    "medium_risk_bias = np.arange(0.7, 0.9, 0.05)\n",
    "high_risk_bias = np.arange(0.9, 1, 0.05)\n",
    "risk_bias = [low_risk_bias, medium_risk_bias, high_risk_bias]"
   ]
  },
  {
   "cell_type": "code",
   "execution_count": 9,
   "metadata": {},
   "outputs": [],
   "source": [
    "# risk labels, 0=low, 1=medium, 2=high\n",
    "risk_labels = [0, 1, 2]\n",
    "\n",
    "# proportion/probability of each risk (the lower the risk the more common)\n",
    "risk_prob = [0.85, 0.1, 0.05]\n",
    "\n",
    "# varying probabilities of having SNPs\n",
    "low_risk_bias = np.arange(0, 0.7, 0.05)\n",
    "medium_risk_bias = np.arange(0.7, 0.9, 0.05)\n",
    "high_risk_bias = np.arange(0.9, 1, 0.05)\n",
    "risk_bias = [low_risk_bias, medium_risk_bias, high_risk_bias]"
   ]
  },
  {
   "cell_type": "code",
   "execution_count": 10,
   "metadata": {},
   "outputs": [],
   "source": [
    "# simulate 10,000 individuals\n",
    "individuals = []\n",
    "labels = []\n",
    "for _ in range(10000):\n",
    "    label = np.random.choice(a=risk_labels, p=risk_prob)\n",
    "    bias = np.random.choice(risk_bias[label])\n",
    "    snps = (df['raf'].apply(lambda x: np.random.choice(a=[0,1], p=[1-(x*bias), x*bias])))\n",
    "    individuals.append(snps.values)  \n",
    "    labels.append(label)"
   ]
  },
  {
   "cell_type": "code",
   "execution_count": 11,
   "metadata": {},
   "outputs": [],
   "source": [
    "simulated_df = pd.DataFrame(individuals, columns=df['id'])\n",
    "simulated_df.columns.name = 'n'"
   ]
  },
  {
   "cell_type": "code",
   "execution_count": 12,
   "metadata": {},
   "outputs": [],
   "source": [
    "# add polygenic risk score for each individual\n",
    "beta_dict = df.set_index('id')['beta'].to_dict()\n",
    "beta_values = np.array([beta_dict.get(x) for x in simulated_df.columns])\n",
    "prs = simulated_df.apply(lambda x: (x*beta_values).sum(), axis=1)\n",
    "simulated_df['prs'] = prs\n",
    "simulated_df['label'] = labels"
   ]
  },
  {
   "cell_type": "code",
   "execution_count": 13,
   "metadata": {},
   "outputs": [
    {
     "data": {
      "text/plain": [
       "label\n",
       "0     7.448401\n",
       "1    18.661306\n",
       "2    20.841638\n",
       "Name: prs, dtype: float64"
      ]
     },
     "execution_count": 13,
     "metadata": {},
     "output_type": "execute_result"
    }
   ],
   "source": [
    "simulated_df\n",
    "simulated_df.groupby('label')['prs'].mean()"
   ]
  },
  {
   "cell_type": "code",
   "execution_count": 14,
   "metadata": {},
   "outputs": [
    {
     "data": {
      "text/plain": [
       "Text(0, 0.5, 'Frequency')"
      ]
     },
     "execution_count": 14,
     "metadata": {},
     "output_type": "execute_result"
    },
    {
     "data": {
      "image/png": "[encoded data removed]",
      "text/plain": [
       "<Figure size 1280x800 with 1 Axes>"
      ]
     },
     "metadata": {
      "needs_background": "light"
     },
     "output_type": "display_data"
    }
   ],
   "source": [
    "plt.figure(figsize=(16, 10), dpi=80)\n",
    "plt.hist(simulated_df['prs'], 40)\n",
    "plt.title(\"Polygenic Risk Scores for Biased Population (Hypertension)\")\n",
    "plt.xlabel('Polygenic Risk Score')\n",
    "plt.ylabel('Frequency')"
   ]
  },
  {
   "cell_type": "code",
   "execution_count": 15,
   "metadata": {},
   "outputs": [],
   "source": [
    "simulated_df.to_csv('data/hypertension_data.csv')"
   ]
  },
  {
   "cell_type": "code",
   "execution_count": 16,
   "metadata": {},
   "outputs": [
    {
     "data": {
      "text/html": [
       "<div>\n",
       "<style scoped>\n",
       "    .dataframe tbody tr th:only-of-type {\n",
       "        vertical-align: middle;\n",
       "    }\n",
       "\n",
       "    .dataframe tbody tr th {\n",
       "        vertical-align: top;\n",
       "    }\n",
       "\n",
       "    .dataframe thead th {\n",
       "        text-align: right;\n",
       "    }\n",
       "</style>\n",
       "<table border=\"1\" class=\"dataframe\">\n",
       "  <thead>\n",
       "    <tr style=\"text-align: right;\">\n",
       "      <th>n</th>\n",
       "      <th>rs4905794</th>\n",
       "      <th>rs2119704</th>\n",
       "      <th>rs17755650</th>\n",
       "      <th>rs7565329</th>\n",
       "      <th>rs11775334</th>\n",
       "      <th>rs2681472</th>\n",
       "      <th>rs11014166</th>\n",
       "      <th>rs9943291</th>\n",
       "      <th>rs16998073</th>\n",
       "      <th>rs880315</th>\n",
       "      <th>...</th>\n",
       "      <th>rs13333226</th>\n",
       "      <th>rs2972146</th>\n",
       "      <th>rs1799945</th>\n",
       "      <th>rs1173771</th>\n",
       "      <th>rs932764</th>\n",
       "      <th>rs2932538</th>\n",
       "      <th>rs805303</th>\n",
       "      <th>rs2521501</th>\n",
       "      <th>prs</th>\n",
       "      <th>label</th>\n",
       "    </tr>\n",
       "  </thead>\n",
       "  <tbody>\n",
       "    <tr>\n",
       "      <th>0</th>\n",
       "      <td>0</td>\n",
       "      <td>0</td>\n",
       "      <td>0</td>\n",
       "      <td>0</td>\n",
       "      <td>0</td>\n",
       "      <td>0</td>\n",
       "      <td>0</td>\n",
       "      <td>0</td>\n",
       "      <td>0</td>\n",
       "      <td>0</td>\n",
       "      <td>...</td>\n",
       "      <td>0</td>\n",
       "      <td>0</td>\n",
       "      <td>0</td>\n",
       "      <td>0</td>\n",
       "      <td>0</td>\n",
       "      <td>0</td>\n",
       "      <td>0</td>\n",
       "      <td>1</td>\n",
       "      <td>0.059000</td>\n",
       "      <td>0</td>\n",
       "    </tr>\n",
       "    <tr>\n",
       "      <th>1</th>\n",
       "      <td>0</td>\n",
       "      <td>0</td>\n",
       "      <td>0</td>\n",
       "      <td>0</td>\n",
       "      <td>0</td>\n",
       "      <td>0</td>\n",
       "      <td>1</td>\n",
       "      <td>0</td>\n",
       "      <td>0</td>\n",
       "      <td>0</td>\n",
       "      <td>...</td>\n",
       "      <td>1</td>\n",
       "      <td>0</td>\n",
       "      <td>0</td>\n",
       "      <td>0</td>\n",
       "      <td>0</td>\n",
       "      <td>0</td>\n",
       "      <td>0</td>\n",
       "      <td>0</td>\n",
       "      <td>5.572300</td>\n",
       "      <td>0</td>\n",
       "    </tr>\n",
       "    <tr>\n",
       "      <th>2</th>\n",
       "      <td>0</td>\n",
       "      <td>0</td>\n",
       "      <td>0</td>\n",
       "      <td>0</td>\n",
       "      <td>0</td>\n",
       "      <td>1</td>\n",
       "      <td>0</td>\n",
       "      <td>0</td>\n",
       "      <td>1</td>\n",
       "      <td>0</td>\n",
       "      <td>...</td>\n",
       "      <td>0</td>\n",
       "      <td>0</td>\n",
       "      <td>0</td>\n",
       "      <td>0</td>\n",
       "      <td>0</td>\n",
       "      <td>1</td>\n",
       "      <td>0</td>\n",
       "      <td>0</td>\n",
       "      <td>5.290900</td>\n",
       "      <td>0</td>\n",
       "    </tr>\n",
       "    <tr>\n",
       "      <th>3</th>\n",
       "      <td>0</td>\n",
       "      <td>0</td>\n",
       "      <td>1</td>\n",
       "      <td>0</td>\n",
       "      <td>0</td>\n",
       "      <td>0</td>\n",
       "      <td>1</td>\n",
       "      <td>0</td>\n",
       "      <td>1</td>\n",
       "      <td>0</td>\n",
       "      <td>...</td>\n",
       "      <td>1</td>\n",
       "      <td>1</td>\n",
       "      <td>0</td>\n",
       "      <td>1</td>\n",
       "      <td>0</td>\n",
       "      <td>1</td>\n",
       "      <td>0</td>\n",
       "      <td>0</td>\n",
       "      <td>23.602642</td>\n",
       "      <td>1</td>\n",
       "    </tr>\n",
       "    <tr>\n",
       "      <th>4</th>\n",
       "      <td>0</td>\n",
       "      <td>0</td>\n",
       "      <td>0</td>\n",
       "      <td>0</td>\n",
       "      <td>0</td>\n",
       "      <td>1</td>\n",
       "      <td>0</td>\n",
       "      <td>0</td>\n",
       "      <td>0</td>\n",
       "      <td>0</td>\n",
       "      <td>...</td>\n",
       "      <td>1</td>\n",
       "      <td>0</td>\n",
       "      <td>0</td>\n",
       "      <td>0</td>\n",
       "      <td>0</td>\n",
       "      <td>0</td>\n",
       "      <td>0</td>\n",
       "      <td>0</td>\n",
       "      <td>10.689100</td>\n",
       "      <td>0</td>\n",
       "    </tr>\n",
       "    <tr>\n",
       "      <th>...</th>\n",
       "      <td>...</td>\n",
       "      <td>...</td>\n",
       "      <td>...</td>\n",
       "      <td>...</td>\n",
       "      <td>...</td>\n",
       "      <td>...</td>\n",
       "      <td>...</td>\n",
       "      <td>...</td>\n",
       "      <td>...</td>\n",
       "      <td>...</td>\n",
       "      <td>...</td>\n",
       "      <td>...</td>\n",
       "      <td>...</td>\n",
       "      <td>...</td>\n",
       "      <td>...</td>\n",
       "      <td>...</td>\n",
       "      <td>...</td>\n",
       "      <td>...</td>\n",
       "      <td>...</td>\n",
       "      <td>...</td>\n",
       "      <td>...</td>\n",
       "    </tr>\n",
       "    <tr>\n",
       "      <th>9995</th>\n",
       "      <td>0</td>\n",
       "      <td>0</td>\n",
       "      <td>0</td>\n",
       "      <td>0</td>\n",
       "      <td>0</td>\n",
       "      <td>1</td>\n",
       "      <td>1</td>\n",
       "      <td>0</td>\n",
       "      <td>1</td>\n",
       "      <td>0</td>\n",
       "      <td>...</td>\n",
       "      <td>1</td>\n",
       "      <td>1</td>\n",
       "      <td>0</td>\n",
       "      <td>0</td>\n",
       "      <td>1</td>\n",
       "      <td>1</td>\n",
       "      <td>0</td>\n",
       "      <td>1</td>\n",
       "      <td>27.929580</td>\n",
       "      <td>2</td>\n",
       "    </tr>\n",
       "    <tr>\n",
       "      <th>9996</th>\n",
       "      <td>0</td>\n",
       "      <td>0</td>\n",
       "      <td>1</td>\n",
       "      <td>0</td>\n",
       "      <td>1</td>\n",
       "      <td>0</td>\n",
       "      <td>0</td>\n",
       "      <td>0</td>\n",
       "      <td>0</td>\n",
       "      <td>0</td>\n",
       "      <td>...</td>\n",
       "      <td>0</td>\n",
       "      <td>0</td>\n",
       "      <td>0</td>\n",
       "      <td>1</td>\n",
       "      <td>0</td>\n",
       "      <td>1</td>\n",
       "      <td>0</td>\n",
       "      <td>0</td>\n",
       "      <td>1.798100</td>\n",
       "      <td>0</td>\n",
       "    </tr>\n",
       "    <tr>\n",
       "      <th>9997</th>\n",
       "      <td>0</td>\n",
       "      <td>0</td>\n",
       "      <td>0</td>\n",
       "      <td>0</td>\n",
       "      <td>0</td>\n",
       "      <td>0</td>\n",
       "      <td>1</td>\n",
       "      <td>0</td>\n",
       "      <td>1</td>\n",
       "      <td>0</td>\n",
       "      <td>...</td>\n",
       "      <td>1</td>\n",
       "      <td>1</td>\n",
       "      <td>0</td>\n",
       "      <td>0</td>\n",
       "      <td>0</td>\n",
       "      <td>1</td>\n",
       "      <td>0</td>\n",
       "      <td>0</td>\n",
       "      <td>17.775280</td>\n",
       "      <td>0</td>\n",
       "    </tr>\n",
       "    <tr>\n",
       "      <th>9998</th>\n",
       "      <td>0</td>\n",
       "      <td>0</td>\n",
       "      <td>0</td>\n",
       "      <td>0</td>\n",
       "      <td>0</td>\n",
       "      <td>0</td>\n",
       "      <td>1</td>\n",
       "      <td>0</td>\n",
       "      <td>0</td>\n",
       "      <td>0</td>\n",
       "      <td>...</td>\n",
       "      <td>1</td>\n",
       "      <td>0</td>\n",
       "      <td>0</td>\n",
       "      <td>0</td>\n",
       "      <td>0</td>\n",
       "      <td>0</td>\n",
       "      <td>0</td>\n",
       "      <td>0</td>\n",
       "      <td>16.308900</td>\n",
       "      <td>0</td>\n",
       "    </tr>\n",
       "    <tr>\n",
       "      <th>9999</th>\n",
       "      <td>0</td>\n",
       "      <td>0</td>\n",
       "      <td>1</td>\n",
       "      <td>0</td>\n",
       "      <td>0</td>\n",
       "      <td>0</td>\n",
       "      <td>0</td>\n",
       "      <td>0</td>\n",
       "      <td>1</td>\n",
       "      <td>0</td>\n",
       "      <td>...</td>\n",
       "      <td>0</td>\n",
       "      <td>0</td>\n",
       "      <td>0</td>\n",
       "      <td>0</td>\n",
       "      <td>0</td>\n",
       "      <td>1</td>\n",
       "      <td>0</td>\n",
       "      <td>0</td>\n",
       "      <td>6.646100</td>\n",
       "      <td>0</td>\n",
       "    </tr>\n",
       "  </tbody>\n",
       "</table>\n",
       "<p>10000 rows × 49 columns</p>\n",
       "</div>"
      ],
      "text/plain": [
       "n     rs4905794  rs2119704  rs17755650  rs7565329  rs11775334  rs2681472  \\\n",
       "0             0          0           0          0           0          0   \n",
       "1             0          0           0          0           0          0   \n",
       "2             0          0           0          0           0          1   \n",
       "3             0          0           1          0           0          0   \n",
       "4             0          0           0          0           0          1   \n",
       "...         ...        ...         ...        ...         ...        ...   \n",
       "9995          0          0           0          0           0          1   \n",
       "9996          0          0           1          0           1          0   \n",
       "9997          0          0           0          0           0          0   \n",
       "9998          0          0           0          0           0          0   \n",
       "9999          0          0           1          0           0          0   \n",
       "\n",
       "n     rs11014166  rs9943291  rs16998073  rs880315  ...  rs13333226  rs2972146  \\\n",
       "0              0          0           0         0  ...           0          0   \n",
       "1              1          0           0         0  ...           1          0   \n",
       "2              0          0           1         0  ...           0          0   \n",
       "3              1          0           1         0  ...           1          1   \n",
       "4              0          0           0         0  ...           1          0   \n",
       "...          ...        ...         ...       ...  ...         ...        ...   \n",
       "9995           1          0           1         0  ...           1          1   \n",
       "9996           0          0           0         0  ...           0          0   \n",
       "9997           1          0           1         0  ...           1          1   \n",
       "9998           1          0           0         0  ...           1          0   \n",
       "9999           0          0           1         0  ...           0          0   \n",
       "\n",
       "n     rs1799945  rs1173771  rs932764  rs2932538  rs805303  rs2521501  \\\n",
       "0             0          0         0          0         0          1   \n",
       "1             0          0         0          0         0          0   \n",
       "2             0          0         0          1         0          0   \n",
       "3             0          1         0          1         0          0   \n",
       "4             0          0         0          0         0          0   \n",
       "...         ...        ...       ...        ...       ...        ...   \n",
       "9995          0          0         1          1         0          1   \n",
       "9996          0          1         0          1         0          0   \n",
       "9997          0          0         0          1         0          0   \n",
       "9998          0          0         0          0         0          0   \n",
       "9999          0          0         0          1         0          0   \n",
       "\n",
       "n           prs  label  \n",
       "0      0.059000      0  \n",
       "1      5.572300      0  \n",
       "2      5.290900      0  \n",
       "3     23.602642      1  \n",
       "4     10.689100      0  \n",
       "...         ...    ...  \n",
       "9995  27.929580      2  \n",
       "9996   1.798100      0  \n",
       "9997  17.775280      0  \n",
       "9998  16.308900      0  \n",
       "9999   6.646100      0  \n",
       "\n",
       "[10000 rows x 49 columns]"
      ]
     },
     "execution_count": 16,
     "metadata": {},
     "output_type": "execute_result"
    }
   ],
   "source": [
    "simulated_df"
   ]
  },
  {
   "cell_type": "markdown",
   "metadata": {},
   "source": [
    "## model training"
   ]
  },
  {
   "cell_type": "code",
   "execution_count": 17,
   "metadata": {},
   "outputs": [],
   "source": [
    "df = pd.read_csv('data/hypertension_data.csv')\n",
    "\n",
    "X = df.drop(['label','Unnamed: 0','prs'], axis=1)\n",
    "y = df['label']\n",
    "X_train, X_test, y_train, y_test = train_test_split(X, y, test_size=0.2, random_state=1)"
   ]
  },
  {
   "cell_type": "code",
   "execution_count": 18,
   "metadata": {},
   "outputs": [
    {
     "name": "stdout",
     "output_type": "stream",
     "text": [
      "(8000, 47)\n",
      "(2000, 47)\n",
      "(8000,)\n",
      "(2000,)\n"
     ]
    }
   ],
   "source": [
    "print(X_train.shape)\n",
    "print(X_test.shape)\n",
    "print(y_train.shape)\n",
    "print(y_test.shape)"
   ]
  },
  {
   "cell_type": "code",
   "execution_count": 19,
   "metadata": {},
   "outputs": [],
   "source": [
    "def plot_multiclass_roc(clf, X_test, y_test, n_classes, figsize=(17, 6)):\n",
    "    y_score = clf.predict_proba(X_test)\n",
    "\n",
    "    # structures\n",
    "    fpr = dict()\n",
    "    tpr = dict()\n",
    "    roc_auc = dict()\n",
    "\n",
    "    # calculate dummies once\n",
    "    y_test_dummies = pd.get_dummies(y_test, drop_first=False).values\n",
    "    for i in range(n_classes):\n",
    "        fpr[i], tpr[i], _ = roc_curve(y_test_dummies[:, i], y_score[:, i])\n",
    "        roc_auc[i] = metrics.auc(fpr[i], tpr[i])\n",
    "\n",
    "    # roc for each class\n",
    "    fig, ax = plt.subplots(figsize=figsize)\n",
    "    ax.plot([0, 1], [0, 1], 'k--')\n",
    "    ax.set_xlim([0.0, 1.0])\n",
    "    ax.set_ylim([0.0, 1.05])\n",
    "    ax.set_xlabel('False Positive Rate')\n",
    "    ax.set_ylabel('True Positive Rate')\n",
    "    ax.set_title('ROC curve')\n",
    "    labels = ['Low', 'Medium', 'High']\n",
    "    for i in range(n_classes):\n",
    "        ax.plot(fpr[i], tpr[i], label='ROC curve (area = %0.2f) for %s Risk' % (roc_auc[i], labels[i]))\n",
    "    ax.legend(loc=\"best\")\n",
    "    ax.grid(alpha=.4)\n",
    "    sns.despine()\n",
    "    plt.show()\n"
   ]
  },
  {
   "cell_type": "code",
   "execution_count": 20,
   "metadata": {},
   "outputs": [],
   "source": [
    "from hyperopt import hp\n",
    "from hyperopt import Trials\n",
    "from hyperopt import fmin, tpe\n",
    "from hyperopt import STATUS_OK"
   ]
  },
  {
   "cell_type": "code",
   "execution_count": 21,
   "metadata": {},
   "outputs": [],
   "source": [
    "space={'max_depth': hp.quniform(\"max_depth\", 3, 10, 1),\n",
    "        'gamma': hp.uniform ('gamma', 1,3),\n",
    "        'learning_rate' : hp.quniform('learning_rate', 0.01,1,0.05),\n",
    "        'colsample_bytree' : hp.uniform('colsample_bytree', 0.5,1),\n",
    "        'min_child_weight' : hp.quniform('min_child_weight', 0, 5, 1),\n",
    "        'n_estimators': 100,\n",
    "        'seed': 0\n",
    "    }"
   ]
  },
  {
   "cell_type": "code",
   "execution_count": 22,
   "metadata": {},
   "outputs": [],
   "source": [
    "def objective(space):\n",
    "    clf=XGBClassifier(\n",
    "                    n_estimators =space['n_estimators'], max_depth = int(space['max_depth']), gamma = space['gamma'],\n",
    "                    learning_rate = int(space['learning_rate']),min_child_weight=int(space['min_child_weight']),\n",
    "                    colsample_bytree=int(space['colsample_bytree']))\n",
    "    \n",
    "    evaluation = [( X_train, y_train), ( X_test, y_test)]\n",
    "    \n",
    "    clf.fit(X_train, y_train,\n",
    "            eval_set=evaluation, eval_metric=\"auc\",\n",
    "            early_stopping_rounds=10,verbose=False)\n",
    "    \n",
    "\n",
    "    pred = clf.predict(X_test)\n",
    "    score = f1_score(y_test, pred, average='micro')\n",
    "    return {'loss': -score, 'status': STATUS_OK }\n"
   ]
  },
  {
   "cell_type": "code",
   "execution_count": 23,
   "metadata": {},
   "outputs": [
    {
     "name": "stdout",
     "output_type": "stream",
     "text": [
      "100%|██████████| 100/100 [00:07<00:00, 12.86it/s, best loss: -0.893]           \n"
     ]
    }
   ],
   "source": [
    "trials = Trials()\n",
    "\n",
    "best_hyperparams = fmin(fn = objective,\n",
    "                        space = space,\n",
    "                        algo = tpe.suggest,\n",
    "                        max_evals = 100,\n",
    "                        trials = trials)"
   ]
  },
  {
   "cell_type": "code",
   "execution_count": 24,
   "metadata": {},
   "outputs": [
    {
     "name": "stdout",
     "output_type": "stream",
     "text": [
      "The best hyperparameters are :  \n",
      "\n",
      "{'colsample_bytree': 0.5131962555525423, 'gamma': 1.2968581054053547, 'learning_rate': 1.0, 'max_depth': 10.0, 'min_child_weight': 0.0}\n"
     ]
    }
   ],
   "source": [
    "print(\"The best hyperparameters are : \",\"\\n\")\n",
    "print(best_hyperparams)"
   ]
  },
  {
   "cell_type": "code",
   "execution_count": 25,
   "metadata": {},
   "outputs": [
    {
     "name": "stdout",
     "output_type": "stream",
     "text": [
      "[16:29:12] WARNING: /Users/travis/build/dmlc/xgboost/src/learner.cc:1095: Starting in XGBoost 1.3.0, the default evaluation metric used with the objective 'multi:softprob' was changed from 'merror' to 'mlogloss'. Explicitly set eval_metric if you'd like to restore the old behavior.\n"
     ]
    },
    {
     "data": {
      "text/plain": [
       "XGBClassifier(base_score=0.5, booster='gbtree', colsample_bylevel=1,\n",
       "              colsample_bynode=1, colsample_bytree=0.5131962555525423,\n",
       "              gamma=1.2968581054053547, gpu_id=-1, importance_type='gain',\n",
       "              interaction_constraints='', learning_rate=1.0, max_delta_step=0,\n",
       "              max_depth=10, min_child_weight=0.0, missing=nan,\n",
       "              monotone_constraints='()', n_estimators=100, n_jobs=12,\n",
       "              num_parallel_tree=1, objective='multi:softprob', random_state=0,\n",
       "              reg_alpha=0, reg_lambda=1, scale_pos_weight=None, subsample=1,\n",
       "              tree_method='exact', validate_parameters=1, verbosity=None)"
      ]
     },
     "execution_count": 25,
     "metadata": {},
     "output_type": "execute_result"
    }
   ],
   "source": [
    "xgb_opt = XGBClassifier(n_estimators = 100,\n",
    "                            max_depth = int(best_hyperparams['max_depth']),\n",
    "                            learning_rate = best_hyperparams['learning_rate'],\n",
    "                            gamma = best_hyperparams['gamma'],\n",
    "                            min_child_weight = best_hyperparams['min_child_weight'],\n",
    "                            colsample_bytree = best_hyperparams['colsample_bytree']\n",
    "                            )\n",
    "xgb_opt.fit(X_train, y_train)"
   ]
  },
  {
   "cell_type": "code",
   "execution_count": 26,
   "metadata": {},
   "outputs": [
    {
     "name": "stdout",
     "output_type": "stream",
     "text": [
      "              precision    recall  f1-score   support\n",
      "\n",
      "    Low Risk       0.93      0.97      0.95      1711\n",
      " Medium Risk       0.47      0.37      0.41       194\n",
      "   High Risk       0.54      0.40      0.46        95\n",
      "\n",
      "    accuracy                           0.88      2000\n",
      "   macro avg       0.65      0.58      0.61      2000\n",
      "weighted avg       0.87      0.88      0.88      2000\n",
      "\n",
      "auc score is:  0.9383255368335773\n"
     ]
    },
    {
     "data": {
      "image/png": "[encoded data removed]",
      "text/plain": [
       "<Figure size 1152x720 with 1 Axes>"
      ]
     },
     "metadata": {
      "needs_background": "light"
     },
     "output_type": "display_data"
    }
   ],
   "source": [
    "y_pred_xgb = xgb_opt.predict(X_test)\n",
    "print(classification_report(y_test, y_pred_xgb, target_names=['Low Risk', 'Medium Risk', 'High Risk']))\n",
    "auc_val = roc_auc_score(y_test, xgb_opt.predict_proba(X_test), multi_class='ovr')\n",
    "print(\"auc score is: \", auc_val)\n",
    "plot_multiclass_roc(xgb_opt, X_test, y_test, n_classes=3, figsize=(16, 10))"
   ]
  },
  {
   "cell_type": "code",
   "execution_count": 88,
   "metadata": {},
   "outputs": [
    {
     "name": "stdout",
     "output_type": "stream",
     "text": [
      "[12:23:32] WARNING: /Users/travis/build/dmlc/xgboost/src/learner.cc:1095: Starting in XGBoost 1.3.0, the default evaluation metric used with the objective 'multi:softprob' was changed from 'merror' to 'mlogloss'. Explicitly set eval_metric if you'd like to restore the old behavior.\n"
     ]
    },
    {
     "data": {
      "text/plain": [
       "XGBClassifier(base_score=0.5, booster='gbtree', colsample_bylevel=1,\n",
       "              colsample_bynode=1, colsample_bytree=1, gamma=0, gpu_id=-1,\n",
       "              importance_type='gain', interaction_constraints='',\n",
       "              learning_rate=0.15, max_delta_step=0, max_depth=6,\n",
       "              min_child_weight=1, missing=nan, monotone_constraints='()',\n",
       "              n_estimators=100, n_jobs=12, num_parallel_tree=1,\n",
       "              objective='multi:softprob', random_state=0, reg_alpha=0.5,\n",
       "              reg_lambda=1, scale_pos_weight=None, subsample=1,\n",
       "              tree_method='exact', validate_parameters=1, verbosity=None)"
      ]
     },
     "execution_count": 88,
     "metadata": {},
     "output_type": "execute_result"
    }
   ],
   "source": [
    "xgb_opt = XGBClassifier(learning_rate=0.15, reg_alpha=0.5)\n",
    "xgb_opt.fit(X_train, y_train)"
   ]
  },
  {
   "cell_type": "code",
   "execution_count": 89,
   "metadata": {},
   "outputs": [
    {
     "name": "stdout",
     "output_type": "stream",
     "text": [
      "              precision    recall  f1-score   support\n",
      "\n",
      "    Low Risk       0.88      0.90      0.89      1111\n",
      " Medium Risk       0.70      0.76      0.73       697\n",
      "   High Risk       0.69      0.41      0.51       192\n",
      "\n",
      "    accuracy                           0.80      2000\n",
      "   macro avg       0.76      0.69      0.71      2000\n",
      "weighted avg       0.80      0.80      0.80      2000\n",
      "\n",
      "auc score is:  0.9235288522046616\n"
     ]
    },
    {
     "data": {
      "image/png": "[encoded data removed]",
      "text/plain": [
       "<Figure size 1152x720 with 1 Axes>"
      ]
     },
     "metadata": {
      "needs_background": "light"
     },
     "output_type": "display_data"
    }
   ],
   "source": [
    "y_pred_xgb = xgb_opt.predict(X_test)\n",
    "print(classification_report(y_test, y_pred_xgb, target_names=['Low Risk', 'Medium Risk', 'High Risk']))\n",
    "auc_val = roc_auc_score(y_test, xgb_opt.predict_proba(X_test), multi_class='ovr')\n",
    "print(\"auc score is: \", auc_val)\n",
    "plot_multiclass_roc(xgb_opt, X_test, y_test, n_classes=3, figsize=(16, 10))"
   ]
  },
  {
   "cell_type": "code",
   "execution_count": 81,
   "metadata": {},
   "outputs": [
    {
     "data": {
      "text/plain": [
       "['hypertension-model-old.pkl']"
      ]
     },
     "execution_count": 81,
     "metadata": {},
     "output_type": "execute_result"
    }
   ],
   "source": [
    "# from sklearn.externals import joblib\n",
    "import joblib\n",
    "  \n",
    "# Save the model as a pickle in a file\n",
    "joblib.dump(xgb_opt, 'hypertension-model-old.pkl')"
   ]
  },
  {
   "cell_type": "code",
   "execution_count": null,
   "metadata": {},
   "outputs": [],
   "source": []
  }
 ],
 "metadata": {
  "kernelspec": {
   "display_name": "Python 3",
   "language": "python",
   "name": "python3"
  },
  "language_info": {
   "codemirror_mode": {
    "name": "ipython",
    "version": 3
   },
   "file_extension": ".py",
   "mimetype": "text/x-python",
   "name": "python",
   "nbconvert_exporter": "python",
   "pygments_lexer": "ipython3",
   "version": "3.7.6"
  }
 },
 "nbformat": 4,
 "nbformat_minor": 4
}

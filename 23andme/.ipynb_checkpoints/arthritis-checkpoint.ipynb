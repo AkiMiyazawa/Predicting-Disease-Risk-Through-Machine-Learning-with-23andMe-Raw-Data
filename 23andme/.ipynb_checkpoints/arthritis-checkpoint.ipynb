{
 "cells": [
  {
   "cell_type": "markdown",
   "metadata": {},
   "source": [
    "## In this notebook, I will be preprocessing data and training model to predict Rheumatoid arthritis risk for 23andme users"
   ]
  },
  {
   "cell_type": "code",
   "execution_count": 1,
   "metadata": {},
   "outputs": [],
   "source": [
    "import pandas as pd\n",
    "import numpy as np\n",
    "import matplotlib.pyplot as plt\n",
    "import seaborn as sns\n",
    "import random \n",
    "\n",
    "from sklearn.model_selection import train_test_split\n",
    "from sklearn import linear_model\n",
    "from sklearn.ensemble import RandomForestClassifier\n",
    "from sklearn import svm\n",
    "from sklearn.neighbors import KNeighborsClassifier\n",
    "from sklearn import tree\n",
    "from sklearn.neural_network import MLPClassifier\n",
    "from sklearn.naive_bayes import GaussianNB\n",
    "from xgboost import XGBClassifier\n",
    "from sklearn.metrics import f1_score\n",
    "from sklearn.model_selection import GridSearchCV\n",
    "from sklearn.model_selection import RandomizedSearchCV\n",
    "from sklearn.metrics import roc_curve\n",
    "from sklearn import metrics\n",
    "from sklearn.metrics import roc_auc_score\n",
    "from sklearn.metrics import classification_report\n",
    "\n",
    "import warnings\n",
    "warnings.filterwarnings(\"ignore\")"
   ]
  },
  {
   "cell_type": "code",
   "execution_count": 52,
   "metadata": {},
   "outputs": [],
   "source": [
    "# load datasets\n",
    "df = pd.read_csv('data/efotraits_EFO_0000685-associations-2021-06-17.csv')\n",
    "\n",
    "# process dataset \n",
    "cols_to_keep = ['Variant and risk allele', 'RAF', 'Beta']\n",
    "df = df.drop(df.columns.difference(cols_to_keep), axis=1)\n",
    "df = df.replace('NR',np.nan)\n",
    "df = df.replace(\"'-\",np.nan)\n",
    "df = df.dropna()\n",
    "\n",
    "df = df.rename(columns = {'Variant and risk allele':'id','RAF':'raf', 'Beta':'beta'})\n",
    "\n",
    "df['allele'] = df['id'].str.split(\"<b>\", 1, expand=True)[1].str[0]\n",
    "df['id'] = df['id'].str.split(\"-\", 1, expand=True)\n",
    "df['beta'] = df['beta'].str.split(\" \", 1, expand=True)\n",
    "\n",
    "df = df.replace(\"?\",np.nan)\n",
    "df = df.dropna()\n",
    "\n",
    "df['raf'] = df['raf'].astype(float)\n",
    "df['beta'] = df['beta'].astype(float)\n",
    "\n",
    "# save dataframe to csv\n",
    "df.to_csv('data/EFO_0000685.csv')"
   ]
  },
  {
   "cell_type": "code",
   "execution_count": 53,
   "metadata": {},
   "outputs": [
    {
     "name": "stdout",
     "output_type": "stream",
     "text": [
      "631955\n"
     ]
    }
   ],
   "source": [
    "user_data_1 = pd.read_csv('example1.txt', sep='\\t', dtype={'rsid':'str', 'chromosome':'object', 'position':'int', 'genotype':'str'}, comment='#', names = ['rsid', 'chromosome', 'position', 'genotype'])\n",
    "user_snps_1 = user_data_1['rsid'].tolist()\n",
    "print(len(user_snps_1))"
   ]
  },
  {
   "cell_type": "code",
   "execution_count": 54,
   "metadata": {},
   "outputs": [
    {
     "name": "stdout",
     "output_type": "stream",
     "text": [
      "['rs34536443', 'rs909685', 'rs4452313', 'rs10175798', 'rs8026898', 'rs73081554', 'rs9268839', 'rs34695944', 'rs73013527', 'rs13330176', 'rs2451258', 'rs11933540', 'rs998731', 'rs4780401', 'rs28411352', 'rs7731626', 'rs773125', 'rs8032939', 'rs3824660', 'rs6715284', 'rs9653442', 'rs1893592', 'rs1858037', 'rs116199914', 'rs1571878', 'rs227163', 'rs1516971', 'rs968567', 'rs678347', 'rs2736337', 'rs11574914', 'rs2582532', 'rs17264332', 'rs16973500', 'rs2469434', 'rs67250450', 'rs624988', 'rs2561477', 'rs4239702', 'rs1950897', 'rs10985070', 'rs657075', 'rs3087243', 'rs726288', 'rs3806624', 'rs2664035', 'rs1980422', 'rs11089637', 'rs12413578', 'rs4272', 'rs508970', 'rs8133843', 'rs9826828', 'rs11889341', 'rs2233424', 'rs45475795', 'rs947474', 'rs71508903', 'rs331463']\n",
      "59\n"
     ]
    }
   ],
   "source": [
    "data_snps = df['id'].tolist()\n",
    "row_to_keep = list(set(user_snps_1) & set(data_snps))\n",
    "print(row_to_keep)\n",
    "print(len(row_to_keep))"
   ]
  },
  {
   "cell_type": "code",
   "execution_count": 55,
   "metadata": {},
   "outputs": [],
   "source": [
    "df = df[df['id'].isin(row_to_keep)]"
   ]
  },
  {
   "cell_type": "code",
   "execution_count": 56,
   "metadata": {},
   "outputs": [],
   "source": [
    "mapping = {}\n",
    "for _, row in df.iterrows():\n",
    "    if row['id'] not in mapping:\n",
    "        mapping[row['id']] = [row['allele']]\n",
    "    else:\n",
    "        if row['allele'] not in mapping[row['id']]:\n",
    "            mapping[row['id']].append(row['allele'])\n"
   ]
  },
  {
   "cell_type": "code",
   "execution_count": 57,
   "metadata": {},
   "outputs": [
    {
     "name": "stdout",
     "output_type": "stream",
     "text": [
      "{'rs2451258': ['T'], 'rs947474': ['A'], 'rs3824660': ['T'], 'rs8026898': ['A'], 'rs8133843': ['A'], 'rs13330176': ['A'], 'rs1893592': ['A'], 'rs4239702': ['T'], 'rs2233424': ['T'], 'rs624988': ['T'], 'rs73081554': ['T'], 'rs8032939': ['T'], 'rs773125': ['A'], 'rs9826828': ['A'], 'rs1980422': ['T'], 'rs4452313': ['A'], 'rs909685': ['A'], 'rs2561477': ['A'], 'rs1858037': ['A'], 'rs7731626': ['A'], 'rs3087243': ['A'], 'rs17264332': ['A'], 'rs28411352': ['T'], 'rs11933540': ['T'], 'rs34536443': ['G'], 'rs1571878': ['T'], 'rs10985070': ['A'], 'rs34695944': ['T'], 'rs11574914': ['A'], 'rs71508903': ['T'], 'rs3806624': ['A'], 'rs9653442': ['T'], 'rs11889341': ['T'], 'rs998731': ['T'], 'rs10175798': ['A'], 'rs9268839': ['A'], 'rs726288': ['T'], 'rs73013527': ['T'], 'rs2469434': ['T'], 'rs2736337': ['T'], 'rs2582532': ['T'], 'rs227163': ['T'], 'rs657075': ['A'], 'rs678347': ['A'], 'rs1950897': ['T'], 'rs6715284': ['G'], 'rs12413578': ['T'], 'rs4272': ['A'], 'rs4780401': ['T'], 'rs1516971': ['T'], 'rs11089637': ['T'], 'rs968567': ['T'], 'rs67250450': ['T'], 'rs2664035': ['A'], 'rs45475795': ['A'], 'rs508970': ['A'], 'rs331463': ['A'], 'rs116199914': ['G'], 'rs16973500': ['T']}\n"
     ]
    }
   ],
   "source": [
    "print(mapping)"
   ]
  },
  {
   "cell_type": "markdown",
   "metadata": {},
   "source": [
    "## Simulate data"
   ]
  },
  {
   "cell_type": "code",
   "execution_count": 58,
   "metadata": {},
   "outputs": [],
   "source": [
    "cols_to_keep = ['id', 'raf', 'beta']\n",
    "df = df.drop(df.columns.difference(cols_to_keep), axis=1)\n",
    "df = df.drop_duplicates(subset=['id'])"
   ]
  },
  {
   "cell_type": "code",
   "execution_count": 59,
   "metadata": {},
   "outputs": [],
   "source": [
    "# risk labels, 0=low, 1=medium, 2=high\n",
    "risk_labels = [0, 1, 2]\n",
    "\n",
    "# proportion/probability of each risk (the lower the risk the more common)\n",
    "risk_prob = [0.85, 0.1, 0.05]\n",
    "\n",
    "# varying probabilities of having SNPs\n",
    "low_risk_bias = np.arange(0, 0.75, 0.05)\n",
    "medium_risk_bias = np.arange(0.75, 0.9, 0.05)\n",
    "high_risk_bias = np.arange(0.9, 1, 0.05)\n",
    "risk_bias = [low_risk_bias, medium_risk_bias, high_risk_bias]"
   ]
  },
  {
   "cell_type": "code",
   "execution_count": 33,
   "metadata": {},
   "outputs": [],
   "source": [
    "# risk labels, 0=low, 1=medium, 2=high\n",
    "risk_labels = [0, 1, 2]\n",
    "\n",
    "# proportion/probability of each risk (the lower the risk the more common)\n",
    "risk_prob = [0.9, 0.08, 0.02]\n",
    "\n",
    "# varying probabilities of having SNPs\n",
    "low_risk_bias = np.arange(0, 0.75, 0.05)\n",
    "medium_risk_bias = np.arange(0.75, 0.9, 0.05)\n",
    "high_risk_bias = np.arange(0.9, 1, 0.05)\n",
    "risk_bias = [low_risk_bias, medium_risk_bias, high_risk_bias]"
   ]
  },
  {
   "cell_type": "code",
   "execution_count": 60,
   "metadata": {},
   "outputs": [],
   "source": [
    "# simulate 10,000 individuals\n",
    "individuals = []\n",
    "labels = []\n",
    "for _ in range(10000):\n",
    "    label = np.random.choice(a=risk_labels, p=risk_prob)\n",
    "    bias = np.random.choice(risk_bias[label])\n",
    "    snps = (df['raf'].apply(lambda x: np.random.choice(a=[0,1], p=[1-(x*bias), x*bias])))\n",
    "    individuals.append(snps.values)  \n",
    "    labels.append(label)"
   ]
  },
  {
   "cell_type": "code",
   "execution_count": 61,
   "metadata": {},
   "outputs": [],
   "source": [
    "simulated_df = pd.DataFrame(individuals, columns=df['id'])\n",
    "simulated_df.columns.name = 'n'"
   ]
  },
  {
   "cell_type": "code",
   "execution_count": 62,
   "metadata": {},
   "outputs": [],
   "source": [
    "# add polygenic risk score for each individual\n",
    "beta_dict = df.set_index('id')['beta'].to_dict()\n",
    "beta_values = np.array([beta_dict.get(x) for x in simulated_df.columns])\n",
    "prs = simulated_df.apply(lambda x: (x*beta_values).sum(), axis=1)\n",
    "simulated_df['prs'] = prs\n",
    "simulated_df['label'] = labels"
   ]
  },
  {
   "cell_type": "code",
   "execution_count": 63,
   "metadata": {},
   "outputs": [
    {
     "data": {
      "text/plain": [
       "label\n",
       "0    1.350309\n",
       "1    3.141528\n",
       "2    3.504579\n",
       "Name: prs, dtype: float64"
      ]
     },
     "execution_count": 63,
     "metadata": {},
     "output_type": "execute_result"
    }
   ],
   "source": [
    "simulated_df\n",
    "simulated_df.groupby('label')['prs'].mean()"
   ]
  },
  {
   "cell_type": "code",
   "execution_count": 64,
   "metadata": {},
   "outputs": [
    {
     "data": {
      "text/plain": [
       "Text(0, 0.5, 'Frequency')"
      ]
     },
     "execution_count": 64,
     "metadata": {},
     "output_type": "execute_result"
    },
    {
     "data": {
      "image/png": "[encoded data removed]",
      "text/plain": [
       "<Figure size 1280x800 with 1 Axes>"
      ]
     },
     "metadata": {
      "needs_background": "light"
     },
     "output_type": "display_data"
    }
   ],
   "source": [
    "plt.figure(figsize=(16, 10), dpi=80)\n",
    "plt.hist(simulated_df['prs'], 40)\n",
    "plt.title(\"Polygenic Risk Scores for Biased Population (Rheumatoid arthritis)\")\n",
    "plt.xlabel('Polygenic Risk Score')\n",
    "plt.ylabel('Frequency')"
   ]
  },
  {
   "cell_type": "code",
   "execution_count": 65,
   "metadata": {},
   "outputs": [],
   "source": [
    "simulated_df.to_csv('data/arthritis_data.csv')"
   ]
  },
  {
   "cell_type": "code",
   "execution_count": 66,
   "metadata": {},
   "outputs": [
    {
     "data": {
      "text/html": [
       "<div>\n",
       "<style scoped>\n",
       "    .dataframe tbody tr th:only-of-type {\n",
       "        vertical-align: middle;\n",
       "    }\n",
       "\n",
       "    .dataframe tbody tr th {\n",
       "        vertical-align: top;\n",
       "    }\n",
       "\n",
       "    .dataframe thead th {\n",
       "        text-align: right;\n",
       "    }\n",
       "</style>\n",
       "<table border=\"1\" class=\"dataframe\">\n",
       "  <thead>\n",
       "    <tr style=\"text-align: right;\">\n",
       "      <th>n</th>\n",
       "      <th>rs2451258</th>\n",
       "      <th>rs947474</th>\n",
       "      <th>rs3824660</th>\n",
       "      <th>rs8026898</th>\n",
       "      <th>rs8133843</th>\n",
       "      <th>rs13330176</th>\n",
       "      <th>rs1893592</th>\n",
       "      <th>rs4239702</th>\n",
       "      <th>rs2233424</th>\n",
       "      <th>rs624988</th>\n",
       "      <th>...</th>\n",
       "      <th>rs968567</th>\n",
       "      <th>rs67250450</th>\n",
       "      <th>rs2664035</th>\n",
       "      <th>rs45475795</th>\n",
       "      <th>rs508970</th>\n",
       "      <th>rs331463</th>\n",
       "      <th>rs116199914</th>\n",
       "      <th>rs16973500</th>\n",
       "      <th>prs</th>\n",
       "      <th>label</th>\n",
       "    </tr>\n",
       "  </thead>\n",
       "  <tbody>\n",
       "    <tr>\n",
       "      <th>0</th>\n",
       "      <td>1</td>\n",
       "      <td>1</td>\n",
       "      <td>0</td>\n",
       "      <td>0</td>\n",
       "      <td>1</td>\n",
       "      <td>0</td>\n",
       "      <td>0</td>\n",
       "      <td>0</td>\n",
       "      <td>0</td>\n",
       "      <td>0</td>\n",
       "      <td>...</td>\n",
       "      <td>1</td>\n",
       "      <td>0</td>\n",
       "      <td>1</td>\n",
       "      <td>1</td>\n",
       "      <td>0</td>\n",
       "      <td>0</td>\n",
       "      <td>0</td>\n",
       "      <td>1</td>\n",
       "      <td>2.56114</td>\n",
       "      <td>0</td>\n",
       "    </tr>\n",
       "    <tr>\n",
       "      <th>1</th>\n",
       "      <td>0</td>\n",
       "      <td>0</td>\n",
       "      <td>1</td>\n",
       "      <td>0</td>\n",
       "      <td>1</td>\n",
       "      <td>0</td>\n",
       "      <td>0</td>\n",
       "      <td>0</td>\n",
       "      <td>0</td>\n",
       "      <td>1</td>\n",
       "      <td>...</td>\n",
       "      <td>0</td>\n",
       "      <td>1</td>\n",
       "      <td>0</td>\n",
       "      <td>1</td>\n",
       "      <td>0</td>\n",
       "      <td>0</td>\n",
       "      <td>0</td>\n",
       "      <td>0</td>\n",
       "      <td>1.15732</td>\n",
       "      <td>0</td>\n",
       "    </tr>\n",
       "    <tr>\n",
       "      <th>2</th>\n",
       "      <td>0</td>\n",
       "      <td>0</td>\n",
       "      <td>0</td>\n",
       "      <td>0</td>\n",
       "      <td>0</td>\n",
       "      <td>0</td>\n",
       "      <td>0</td>\n",
       "      <td>0</td>\n",
       "      <td>0</td>\n",
       "      <td>0</td>\n",
       "      <td>...</td>\n",
       "      <td>0</td>\n",
       "      <td>0</td>\n",
       "      <td>0</td>\n",
       "      <td>0</td>\n",
       "      <td>0</td>\n",
       "      <td>0</td>\n",
       "      <td>0</td>\n",
       "      <td>1</td>\n",
       "      <td>1.19334</td>\n",
       "      <td>0</td>\n",
       "    </tr>\n",
       "    <tr>\n",
       "      <th>3</th>\n",
       "      <td>1</td>\n",
       "      <td>1</td>\n",
       "      <td>1</td>\n",
       "      <td>0</td>\n",
       "      <td>0</td>\n",
       "      <td>0</td>\n",
       "      <td>1</td>\n",
       "      <td>0</td>\n",
       "      <td>0</td>\n",
       "      <td>0</td>\n",
       "      <td>...</td>\n",
       "      <td>0</td>\n",
       "      <td>0</td>\n",
       "      <td>0</td>\n",
       "      <td>1</td>\n",
       "      <td>1</td>\n",
       "      <td>0</td>\n",
       "      <td>0</td>\n",
       "      <td>1</td>\n",
       "      <td>3.85084</td>\n",
       "      <td>0</td>\n",
       "    </tr>\n",
       "    <tr>\n",
       "      <th>4</th>\n",
       "      <td>0</td>\n",
       "      <td>0</td>\n",
       "      <td>1</td>\n",
       "      <td>0</td>\n",
       "      <td>0</td>\n",
       "      <td>0</td>\n",
       "      <td>0</td>\n",
       "      <td>0</td>\n",
       "      <td>1</td>\n",
       "      <td>0</td>\n",
       "      <td>...</td>\n",
       "      <td>0</td>\n",
       "      <td>0</td>\n",
       "      <td>1</td>\n",
       "      <td>1</td>\n",
       "      <td>1</td>\n",
       "      <td>0</td>\n",
       "      <td>0</td>\n",
       "      <td>1</td>\n",
       "      <td>3.13799</td>\n",
       "      <td>1</td>\n",
       "    </tr>\n",
       "    <tr>\n",
       "      <th>...</th>\n",
       "      <td>...</td>\n",
       "      <td>...</td>\n",
       "      <td>...</td>\n",
       "      <td>...</td>\n",
       "      <td>...</td>\n",
       "      <td>...</td>\n",
       "      <td>...</td>\n",
       "      <td>...</td>\n",
       "      <td>...</td>\n",
       "      <td>...</td>\n",
       "      <td>...</td>\n",
       "      <td>...</td>\n",
       "      <td>...</td>\n",
       "      <td>...</td>\n",
       "      <td>...</td>\n",
       "      <td>...</td>\n",
       "      <td>...</td>\n",
       "      <td>...</td>\n",
       "      <td>...</td>\n",
       "      <td>...</td>\n",
       "      <td>...</td>\n",
       "    </tr>\n",
       "    <tr>\n",
       "      <th>9995</th>\n",
       "      <td>0</td>\n",
       "      <td>0</td>\n",
       "      <td>1</td>\n",
       "      <td>0</td>\n",
       "      <td>0</td>\n",
       "      <td>0</td>\n",
       "      <td>0</td>\n",
       "      <td>0</td>\n",
       "      <td>0</td>\n",
       "      <td>1</td>\n",
       "      <td>...</td>\n",
       "      <td>0</td>\n",
       "      <td>0</td>\n",
       "      <td>0</td>\n",
       "      <td>1</td>\n",
       "      <td>0</td>\n",
       "      <td>0</td>\n",
       "      <td>0</td>\n",
       "      <td>0</td>\n",
       "      <td>1.63569</td>\n",
       "      <td>0</td>\n",
       "    </tr>\n",
       "    <tr>\n",
       "      <th>9996</th>\n",
       "      <td>1</td>\n",
       "      <td>0</td>\n",
       "      <td>0</td>\n",
       "      <td>1</td>\n",
       "      <td>0</td>\n",
       "      <td>0</td>\n",
       "      <td>1</td>\n",
       "      <td>1</td>\n",
       "      <td>0</td>\n",
       "      <td>0</td>\n",
       "      <td>...</td>\n",
       "      <td>0</td>\n",
       "      <td>1</td>\n",
       "      <td>1</td>\n",
       "      <td>1</td>\n",
       "      <td>0</td>\n",
       "      <td>0</td>\n",
       "      <td>0</td>\n",
       "      <td>0</td>\n",
       "      <td>2.36336</td>\n",
       "      <td>0</td>\n",
       "    </tr>\n",
       "    <tr>\n",
       "      <th>9997</th>\n",
       "      <td>1</td>\n",
       "      <td>1</td>\n",
       "      <td>0</td>\n",
       "      <td>0</td>\n",
       "      <td>1</td>\n",
       "      <td>0</td>\n",
       "      <td>0</td>\n",
       "      <td>0</td>\n",
       "      <td>0</td>\n",
       "      <td>0</td>\n",
       "      <td>...</td>\n",
       "      <td>0</td>\n",
       "      <td>0</td>\n",
       "      <td>0</td>\n",
       "      <td>0</td>\n",
       "      <td>0</td>\n",
       "      <td>0</td>\n",
       "      <td>0</td>\n",
       "      <td>0</td>\n",
       "      <td>1.12475</td>\n",
       "      <td>0</td>\n",
       "    </tr>\n",
       "    <tr>\n",
       "      <th>9998</th>\n",
       "      <td>1</td>\n",
       "      <td>1</td>\n",
       "      <td>0</td>\n",
       "      <td>0</td>\n",
       "      <td>0</td>\n",
       "      <td>0</td>\n",
       "      <td>0</td>\n",
       "      <td>0</td>\n",
       "      <td>0</td>\n",
       "      <td>0</td>\n",
       "      <td>...</td>\n",
       "      <td>0</td>\n",
       "      <td>0</td>\n",
       "      <td>0</td>\n",
       "      <td>1</td>\n",
       "      <td>1</td>\n",
       "      <td>0</td>\n",
       "      <td>0</td>\n",
       "      <td>0</td>\n",
       "      <td>2.09233</td>\n",
       "      <td>0</td>\n",
       "    </tr>\n",
       "    <tr>\n",
       "      <th>9999</th>\n",
       "      <td>0</td>\n",
       "      <td>1</td>\n",
       "      <td>1</td>\n",
       "      <td>0</td>\n",
       "      <td>0</td>\n",
       "      <td>0</td>\n",
       "      <td>1</td>\n",
       "      <td>0</td>\n",
       "      <td>0</td>\n",
       "      <td>0</td>\n",
       "      <td>...</td>\n",
       "      <td>0</td>\n",
       "      <td>1</td>\n",
       "      <td>1</td>\n",
       "      <td>1</td>\n",
       "      <td>0</td>\n",
       "      <td>0</td>\n",
       "      <td>0</td>\n",
       "      <td>0</td>\n",
       "      <td>2.79850</td>\n",
       "      <td>0</td>\n",
       "    </tr>\n",
       "  </tbody>\n",
       "</table>\n",
       "<p>10000 rows × 61 columns</p>\n",
       "</div>"
      ],
      "text/plain": [
       "n     rs2451258  rs947474  rs3824660  rs8026898  rs8133843  rs13330176  \\\n",
       "0             1         1          0          0          1           0   \n",
       "1             0         0          1          0          1           0   \n",
       "2             0         0          0          0          0           0   \n",
       "3             1         1          1          0          0           0   \n",
       "4             0         0          1          0          0           0   \n",
       "...         ...       ...        ...        ...        ...         ...   \n",
       "9995          0         0          1          0          0           0   \n",
       "9996          1         0          0          1          0           0   \n",
       "9997          1         1          0          0          1           0   \n",
       "9998          1         1          0          0          0           0   \n",
       "9999          0         1          1          0          0           0   \n",
       "\n",
       "n     rs1893592  rs4239702  rs2233424  rs624988  ...  rs968567  rs67250450  \\\n",
       "0             0          0          0         0  ...         1           0   \n",
       "1             0          0          0         1  ...         0           1   \n",
       "2             0          0          0         0  ...         0           0   \n",
       "3             1          0          0         0  ...         0           0   \n",
       "4             0          0          1         0  ...         0           0   \n",
       "...         ...        ...        ...       ...  ...       ...         ...   \n",
       "9995          0          0          0         1  ...         0           0   \n",
       "9996          1          1          0         0  ...         0           1   \n",
       "9997          0          0          0         0  ...         0           0   \n",
       "9998          0          0          0         0  ...         0           0   \n",
       "9999          1          0          0         0  ...         0           1   \n",
       "\n",
       "n     rs2664035  rs45475795  rs508970  rs331463  rs116199914  rs16973500  \\\n",
       "0             1           1         0         0            0           1   \n",
       "1             0           1         0         0            0           0   \n",
       "2             0           0         0         0            0           1   \n",
       "3             0           1         1         0            0           1   \n",
       "4             1           1         1         0            0           1   \n",
       "...         ...         ...       ...       ...          ...         ...   \n",
       "9995          0           1         0         0            0           0   \n",
       "9996          1           1         0         0            0           0   \n",
       "9997          0           0         0         0            0           0   \n",
       "9998          0           1         1         0            0           0   \n",
       "9999          1           1         0         0            0           0   \n",
       "\n",
       "n         prs  label  \n",
       "0     2.56114      0  \n",
       "1     1.15732      0  \n",
       "2     1.19334      0  \n",
       "3     3.85084      0  \n",
       "4     3.13799      1  \n",
       "...       ...    ...  \n",
       "9995  1.63569      0  \n",
       "9996  2.36336      0  \n",
       "9997  1.12475      0  \n",
       "9998  2.09233      0  \n",
       "9999  2.79850      0  \n",
       "\n",
       "[10000 rows x 61 columns]"
      ]
     },
     "execution_count": 66,
     "metadata": {},
     "output_type": "execute_result"
    }
   ],
   "source": [
    "simulated_df"
   ]
  },
  {
   "cell_type": "markdown",
   "metadata": {},
   "source": [
    "## model training"
   ]
  },
  {
   "cell_type": "code",
   "execution_count": 67,
   "metadata": {},
   "outputs": [],
   "source": [
    "df = pd.read_csv('data/arthritis_data.csv')\n",
    "\n",
    "X = df.drop(['label','Unnamed: 0','prs'], axis=1)\n",
    "y = df['label']\n",
    "X_train, X_test, y_train, y_test = train_test_split(X, y, test_size=0.2, random_state=1)"
   ]
  },
  {
   "cell_type": "code",
   "execution_count": 68,
   "metadata": {},
   "outputs": [
    {
     "name": "stdout",
     "output_type": "stream",
     "text": [
      "(8000, 59)\n",
      "(2000, 59)\n",
      "(8000,)\n",
      "(2000,)\n"
     ]
    }
   ],
   "source": [
    "print(X_train.shape)\n",
    "print(X_test.shape)\n",
    "print(y_train.shape)\n",
    "print(y_test.shape)"
   ]
  },
  {
   "cell_type": "code",
   "execution_count": 69,
   "metadata": {},
   "outputs": [],
   "source": [
    "def plot_multiclass_roc(clf, X_test, y_test, n_classes, figsize=(17, 6)):\n",
    "    y_score = clf.predict_proba(X_test)\n",
    "\n",
    "    # structures\n",
    "    fpr = dict()\n",
    "    tpr = dict()\n",
    "    roc_auc = dict()\n",
    "\n",
    "    # calculate dummies once\n",
    "    y_test_dummies = pd.get_dummies(y_test, drop_first=False).values\n",
    "    for i in range(n_classes):\n",
    "        fpr[i], tpr[i], _ = roc_curve(y_test_dummies[:, i], y_score[:, i])\n",
    "        roc_auc[i] = metrics.auc(fpr[i], tpr[i])\n",
    "\n",
    "    # roc for each class\n",
    "    fig, ax = plt.subplots(figsize=figsize)\n",
    "    ax.plot([0, 1], [0, 1], 'k--')\n",
    "    ax.set_xlim([0.0, 1.0])\n",
    "    ax.set_ylim([0.0, 1.05])\n",
    "    ax.set_xlabel('False Positive Rate')\n",
    "    ax.set_ylabel('True Positive Rate')\n",
    "    ax.set_title('ROC curve')\n",
    "    labels = ['Low', 'Medium', 'High']\n",
    "    for i in range(n_classes):\n",
    "        ax.plot(fpr[i], tpr[i], label='ROC curve (area = %0.2f) for %s Risk' % (roc_auc[i], labels[i]))\n",
    "    ax.legend(loc=\"best\")\n",
    "    ax.grid(alpha=.4)\n",
    "    sns.despine()\n",
    "    plt.show()\n"
   ]
  },
  {
   "cell_type": "code",
   "execution_count": 70,
   "metadata": {},
   "outputs": [],
   "source": [
    "from hyperopt import hp\n",
    "from hyperopt import Trials\n",
    "from hyperopt import fmin, tpe\n",
    "from hyperopt import STATUS_OK"
   ]
  },
  {
   "cell_type": "code",
   "execution_count": 71,
   "metadata": {},
   "outputs": [],
   "source": [
    "space={'max_depth': hp.quniform(\"max_depth\", 3, 10, 1),\n",
    "        'gamma': hp.uniform ('gamma', 1,3),\n",
    "        'learning_rate' : hp.quniform('learning_rate', 0.01,1,0.05),\n",
    "        'colsample_bytree' : hp.uniform('colsample_bytree', 0.5,1),\n",
    "        'min_child_weight' : hp.quniform('min_child_weight', 0, 5, 1),\n",
    "        'n_estimators': 100,\n",
    "        'seed': 0\n",
    "    }"
   ]
  },
  {
   "cell_type": "code",
   "execution_count": 72,
   "metadata": {},
   "outputs": [],
   "source": [
    "def objective(space):\n",
    "    clf=XGBClassifier(\n",
    "                    n_estimators =space['n_estimators'], max_depth = int(space['max_depth']), gamma = space['gamma'],\n",
    "                    learning_rate = int(space['learning_rate']),min_child_weight=int(space['min_child_weight']),\n",
    "                    colsample_bytree=int(space['colsample_bytree']))\n",
    "    \n",
    "    evaluation = [( X_train, y_train), ( X_test, y_test)]\n",
    "    \n",
    "    clf.fit(X_train, y_train,\n",
    "            eval_set=evaluation, eval_metric=\"auc\",\n",
    "            early_stopping_rounds=10,verbose=False)\n",
    "    \n",
    "\n",
    "    pred = clf.predict(X_test)\n",
    "    score = f1_score(y_test, pred, average='micro')\n",
    "    return {'loss': -score, 'status': STATUS_OK }\n"
   ]
  },
  {
   "cell_type": "code",
   "execution_count": 73,
   "metadata": {},
   "outputs": [
    {
     "name": "stdout",
     "output_type": "stream",
     "text": [
      "100%|██████████| 100/100 [00:08<00:00, 11.40it/s, best loss: -0.8825]\n"
     ]
    }
   ],
   "source": [
    "trials = Trials()\n",
    "\n",
    "best_hyperparams = fmin(fn = objective,\n",
    "                        space = space,\n",
    "                        algo = tpe.suggest,\n",
    "                        max_evals = 100,\n",
    "                        trials = trials)"
   ]
  },
  {
   "cell_type": "code",
   "execution_count": 74,
   "metadata": {},
   "outputs": [
    {
     "name": "stdout",
     "output_type": "stream",
     "text": [
      "The best hyperparameters are :  \n",
      "\n",
      "{'colsample_bytree': 0.7846257849289581, 'gamma': 1.0180959317134914, 'learning_rate': 1.0, 'max_depth': 8.0, 'min_child_weight': 1.0}\n"
     ]
    }
   ],
   "source": [
    "print(\"The best hyperparameters are : \",\"\\n\")\n",
    "print(best_hyperparams)"
   ]
  },
  {
   "cell_type": "code",
   "execution_count": 75,
   "metadata": {},
   "outputs": [
    {
     "name": "stdout",
     "output_type": "stream",
     "text": [
      "[17:26:10] WARNING: /Users/travis/build/dmlc/xgboost/src/learner.cc:1095: Starting in XGBoost 1.3.0, the default evaluation metric used with the objective 'multi:softprob' was changed from 'merror' to 'mlogloss'. Explicitly set eval_metric if you'd like to restore the old behavior.\n"
     ]
    },
    {
     "data": {
      "text/plain": [
       "XGBClassifier(base_score=0.5, booster='gbtree', colsample_bylevel=1,\n",
       "              colsample_bynode=1, colsample_bytree=0.7846257849289581,\n",
       "              gamma=1.0180959317134914, gpu_id=-1, importance_type='gain',\n",
       "              interaction_constraints='', learning_rate=1.0, max_delta_step=0,\n",
       "              max_depth=8, min_child_weight=1.0, missing=nan,\n",
       "              monotone_constraints='()', n_estimators=100, n_jobs=12,\n",
       "              num_parallel_tree=1, objective='multi:softprob', random_state=0,\n",
       "              reg_alpha=0, reg_lambda=1, scale_pos_weight=None, subsample=1,\n",
       "              tree_method='exact', validate_parameters=1, verbosity=None)"
      ]
     },
     "execution_count": 75,
     "metadata": {},
     "output_type": "execute_result"
    }
   ],
   "source": [
    "xgb_opt = XGBClassifier(n_estimators = 100,\n",
    "                            max_depth = int(best_hyperparams['max_depth']),\n",
    "                            learning_rate = best_hyperparams['learning_rate'],\n",
    "                            gamma = best_hyperparams['gamma'],\n",
    "                            min_child_weight = best_hyperparams['min_child_weight'],\n",
    "                            colsample_bytree = best_hyperparams['colsample_bytree']\n",
    "                            )\n",
    "xgb_opt.fit(X_train, y_train)"
   ]
  },
  {
   "cell_type": "code",
   "execution_count": 76,
   "metadata": {},
   "outputs": [
    {
     "name": "stdout",
     "output_type": "stream",
     "text": [
      "              precision    recall  f1-score   support\n",
      "\n",
      "    Low Risk       0.94      0.97      0.95      1704\n",
      " Medium Risk       0.48      0.44      0.46       197\n",
      "   High Risk       0.52      0.31      0.39        99\n",
      "\n",
      "    accuracy                           0.88      2000\n",
      "   macro avg       0.64      0.57      0.60      2000\n",
      "weighted avg       0.87      0.88      0.87      2000\n",
      "\n",
      "auc score is:  0.9302771736165864\n"
     ]
    },
    {
     "data": {
      "image/png": "[encoded data removed]",
      "text/plain": [
       "<Figure size 1152x720 with 1 Axes>"
      ]
     },
     "metadata": {
      "needs_background": "light"
     },
     "output_type": "display_data"
    }
   ],
   "source": [
    "y_pred_xgb = xgb_opt.predict(X_test)\n",
    "print(classification_report(y_test, y_pred_xgb, target_names=['Low Risk', 'Medium Risk', 'High Risk']))\n",
    "auc_val = roc_auc_score(y_test, xgb_opt.predict_proba(X_test), multi_class='ovr')\n",
    "print(\"auc score is: \", auc_val)\n",
    "plot_multiclass_roc(xgb_opt, X_test, y_test, n_classes=3, figsize=(16, 10))"
   ]
  },
  {
   "cell_type": "code",
   "execution_count": 213,
   "metadata": {},
   "outputs": [
    {
     "name": "stdout",
     "output_type": "stream",
     "text": [
      "[12:25:42] WARNING: /Users/travis/build/dmlc/xgboost/src/learner.cc:1095: Starting in XGBoost 1.3.0, the default evaluation metric used with the objective 'multi:softprob' was changed from 'merror' to 'mlogloss'. Explicitly set eval_metric if you'd like to restore the old behavior.\n"
     ]
    },
    {
     "data": {
      "text/plain": [
       "XGBClassifier(base_score=0.5, booster='gbtree', colsample_bylevel=1,\n",
       "              colsample_bynode=1, colsample_bytree=1, gamma=0, gpu_id=-1,\n",
       "              importance_type='gain', interaction_constraints='',\n",
       "              learning_rate=0.15, max_delta_step=0, max_depth=6,\n",
       "              min_child_weight=1, missing=nan, monotone_constraints='()',\n",
       "              n_estimators=100, n_jobs=12, num_parallel_tree=1,\n",
       "              objective='multi:softprob', random_state=0, reg_alpha=0.5,\n",
       "              reg_lambda=1, scale_pos_weight=None, subsample=1,\n",
       "              tree_method='exact', validate_parameters=1, verbosity=None)"
      ]
     },
     "execution_count": 213,
     "metadata": {},
     "output_type": "execute_result"
    }
   ],
   "source": [
    "xgb_opt = XGBClassifier(learning_rate=0.15, reg_alpha=0.5)\n",
    "xgb_opt.fit(X_train, y_train)"
   ]
  },
  {
   "cell_type": "code",
   "execution_count": 214,
   "metadata": {},
   "outputs": [
    {
     "name": "stdout",
     "output_type": "stream",
     "text": [
      "              precision    recall  f1-score   support\n",
      "\n",
      "    Low Risk       0.89      0.91      0.90      1073\n",
      " Medium Risk       0.74      0.79      0.77       717\n",
      "   High Risk       0.78      0.51      0.61       210\n",
      "\n",
      "    accuracy                           0.83      2000\n",
      "   macro avg       0.80      0.74      0.76      2000\n",
      "weighted avg       0.83      0.83      0.82      2000\n",
      "\n",
      "auc score is:  0.9338900338586543\n"
     ]
    },
    {
     "data": {
      "image/png": "[encoded data removed]",
      "text/plain": [
       "<Figure size 1152x720 with 1 Axes>"
      ]
     },
     "metadata": {
      "needs_background": "light"
     },
     "output_type": "display_data"
    }
   ],
   "source": [
    "y_pred_xgb = xgb_opt.predict(X_test)\n",
    "print(classification_report(y_test, y_pred_xgb, target_names=['Low Risk', 'Medium Risk', 'High Risk']))\n",
    "auc_val = roc_auc_score(y_test, xgb_opt.predict_proba(X_test), multi_class='ovr')\n",
    "print(\"auc score is: \", auc_val)\n",
    "plot_multiclass_roc(xgb_opt, X_test, y_test, n_classes=3, figsize=(16, 10))"
   ]
  },
  {
   "cell_type": "code",
   "execution_count": 77,
   "metadata": {},
   "outputs": [
    {
     "data": {
      "text/plain": [
       "['arthritis-model-old.pkl']"
      ]
     },
     "execution_count": 77,
     "metadata": {},
     "output_type": "execute_result"
    }
   ],
   "source": [
    "# from sklearn.externals import joblib\n",
    "import joblib\n",
    "  \n",
    "# Save the model as a pickle in a file\n",
    "joblib.dump(xgb_opt, 'arthritis-model-old.pkl')"
   ]
  },
  {
   "cell_type": "code",
   "execution_count": null,
   "metadata": {},
   "outputs": [],
   "source": []
  }
 ],
 "metadata": {
  "kernelspec": {
   "display_name": "Python 3",
   "language": "python",
   "name": "python3"
  },
  "language_info": {
   "codemirror_mode": {
    "name": "ipython",
    "version": 3
   },
   "file_extension": ".py",
   "mimetype": "text/x-python",
   "name": "python",
   "nbconvert_exporter": "python",
   "pygments_lexer": "ipython3",
   "version": "3.7.6"
  }
 },
 "nbformat": 4,
 "nbformat_minor": 4
}

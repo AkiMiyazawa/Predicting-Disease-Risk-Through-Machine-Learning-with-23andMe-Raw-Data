{
 "cells": [
  {
   "cell_type": "markdown",
   "metadata": {},
   "source": [
    "## In this notebook, I will be preprocessing data and training model to predict Coronary heart disease risk for 23andme users"
   ]
  },
  {
   "cell_type": "code",
   "execution_count": 55,
   "metadata": {},
   "outputs": [],
   "source": [
    "import pandas as pd\n",
    "import numpy as np\n",
    "import matplotlib.pyplot as plt\n",
    "import seaborn as sns\n",
    "import random \n",
    "\n",
    "from sklearn.model_selection import train_test_split\n",
    "from sklearn import linear_model\n",
    "from sklearn.ensemble import RandomForestClassifier\n",
    "from sklearn import svm\n",
    "from sklearn.neighbors import KNeighborsClassifier\n",
    "from sklearn import tree\n",
    "from sklearn.neural_network import MLPClassifier\n",
    "from sklearn.naive_bayes import GaussianNB\n",
    "from xgboost import XGBClassifier\n",
    "from sklearn.metrics import f1_score\n",
    "from sklearn.model_selection import GridSearchCV\n",
    "from sklearn.model_selection import RandomizedSearchCV\n",
    "from sklearn.metrics import roc_curve\n",
    "from sklearn import metrics\n",
    "from sklearn.metrics import roc_auc_score\n",
    "from sklearn.metrics import classification_report\n",
    "\n",
    "import warnings\n",
    "warnings.filterwarnings(\"ignore\")"
   ]
  },
  {
   "cell_type": "code",
   "execution_count": 56,
   "metadata": {},
   "outputs": [],
   "source": [
    "# load datasets\n",
    "df = pd.read_csv('data/efotraits_EFO_0001645-associations-2021-06-18.csv')\n",
    "\n",
    "# process dataset \n",
    "cols_to_keep = ['Variant and risk allele', 'RAF', 'Beta']\n",
    "df = df.drop(df.columns.difference(cols_to_keep), axis=1)\n",
    "df = df.replace('NR',np.nan)\n",
    "df = df.replace(\"'-\",np.nan)\n",
    "df = df.dropna()\n",
    "\n",
    "df = df.rename(columns = {'Variant and risk allele':'id','RAF':'raf', 'Beta':'beta'})\n",
    "\n",
    "df['allele'] = df['id'].str.split(\"<b>\", 1, expand=True)[1].str[0]\n",
    "df['id'] = df['id'].str.split(\"-\", 1, expand=True)\n",
    "df['beta'] = df['beta'].str.split(\" \", 1, expand=True)\n",
    "\n",
    "df = df.replace(\"?\",np.nan)\n",
    "df = df.dropna()\n",
    "\n",
    "df['raf'] = df['raf'].astype(float)\n",
    "df['beta'] = df['beta'].astype(float)\n",
    "\n",
    "# save dataframe to csv\n",
    "df.to_csv('data/EFO_0001645.csv')"
   ]
  },
  {
   "cell_type": "code",
   "execution_count": 57,
   "metadata": {},
   "outputs": [
    {
     "name": "stdout",
     "output_type": "stream",
     "text": [
      "631955\n"
     ]
    }
   ],
   "source": [
    "user_data_1 = pd.read_csv('example1.txt', sep='\\t', dtype={'rsid':'str', 'chromosome':'object', 'position':'int', 'genotype':'str'}, comment='#', names = ['rsid', 'chromosome', 'position', 'genotype'])\n",
    "user_snps_1 = user_data_1['rsid'].tolist()\n",
    "print(len(user_snps_1))"
   ]
  },
  {
   "cell_type": "code",
   "execution_count": 58,
   "metadata": {},
   "outputs": [
    {
     "name": "stdout",
     "output_type": "stream",
     "text": [
      "['rs2072633', 'rs9319428', 'rs17616661', 'rs112635299', 'rs668948', 'rs15285', 'rs4977574', 'rs188845491', 'rs16986953', 'rs17465637', 'rs12801636', 'rs2507', 'rs3184504', 'rs877549', 'rs11591147', 'rs17114046', 'rs742115', 'rs11057830', 'rs6544713', 'rs117038461', 'rs12493885', 'rs7220401', 'rs17398575', 'rs2327429', 'rs6557122', 'rs8141797', 'rs515135', 'rs6841581', 'rs111245230', 'rs699', 'rs17228058', 'rs2895811', 'rs12740374', 'rs11099493', 'rs10455872', 'rs6905288', 'rs1169288', 'rs1250229', 'rs4803455', 'rs1555321', 'rs2244608', 'rs10947789', 'rs964184', 'rs1008898', 'rs9349379', 'rs264', 'rs644045', 'rs117204111', 'rs1561198', 'rs6426551', 'rs2252641', 'rs425105', 'rs4072980', 'rs2814944', 'rs328', 'rs11042937', 'rs2107595', 'rs35879803', 'rs17035270', 'rs2000813', 'rs1412444', 'rs4299376', 'rs2452600', 'rs35610040', 'rs651821', 'rs9912587', 'rs4845625', 'rs4766578', 'rs73596816', 'rs7412', 'rs147233090', 'rs140607780', 'rs974819', 'rs6060235', 'rs12149545', 'rs9583531', 'rs11718455', 'rs55791371', 'rs606452', 'rs34633411', 'rs9515203', 'rs1800775', 'rs7528419', 'rs11172113', 'rs11556924', 'rs1333049', 'rs10237377', 'rs507666', 'rs7901695', 'rs2074158', 'rs41272114', 'rs140570886', 'rs6511720', 'rs602633', 'rs2679053', 'rs459193', 'rs186696265', 'rs867186', 'rs16948048', 'rs72711827', 'rs12936587', 'rs62471956', 'rs8053891', 'rs4743150', 'rs8080784', 'rs12214416', 'rs2954029', 'rs2814993', 'rs6740731', 'rs475957', 'rs11571537', 'rs11613352', 'rs61361928', 'rs7306455', 'rs12264252', 'rs603424', 'rs3936510', 'rs495828', 'rs2681492', 'rs9469890']\n",
      "120\n"
     ]
    }
   ],
   "source": [
    "data_snps = df['id'].tolist()\n",
    "row_to_keep = list(set(user_snps_1) & set(data_snps))\n",
    "print(row_to_keep)\n",
    "print(len(row_to_keep))"
   ]
  },
  {
   "cell_type": "code",
   "execution_count": 59,
   "metadata": {},
   "outputs": [],
   "source": [
    "df = df[df['id'].isin(row_to_keep)]"
   ]
  },
  {
   "cell_type": "code",
   "execution_count": 60,
   "metadata": {},
   "outputs": [],
   "source": [
    "mapping = {}\n",
    "for _, row in df.iterrows():\n",
    "    if row['id'] not in mapping:\n",
    "        mapping[row['id']] = [row['allele']]\n",
    "    else:\n",
    "        if row['allele'] not in mapping[row['id']]:\n",
    "            mapping[row['id']].append(row['allele'])\n"
   ]
  },
  {
   "cell_type": "code",
   "execution_count": 61,
   "metadata": {},
   "outputs": [
    {
     "name": "stdout",
     "output_type": "stream",
     "text": [
      "{'rs10455872': ['G'], 'rs186696265': ['T'], 'rs7412': ['T'], 'rs328': ['G'], 'rs6511720': ['T'], 'rs7528419': ['G'], 'rs11057830': ['A'], 'rs12740374': ['T'], 'rs147233090': ['T'], 'rs62471956': ['G'], 'rs188845491': ['C'], 'rs140607780': ['G'], 'rs117038461': ['C'], 'rs61361928': ['T'], 'rs11556924': ['T'], 'rs11591147': ['T'], 'rs17114046': ['A'], 'rs4766578': ['A'], 'rs6060235': ['A'], 'rs6905288': ['A'], 'rs6740731': ['A'], 'rs15285': ['T'], 'rs964184': ['C'], 'rs16986953': ['A'], 'rs4803455': ['A'], 'rs11099493': ['A'], 'rs8053891': ['A'], 'rs9469890': ['T'], 'rs17228058': ['A'], 'rs1169288': ['A'], 'rs4299376': ['T'], 'rs495828': ['T'], 'rs9515203': ['T'], 'rs2107595': ['A'], 'rs1412444': ['T'], 'rs459193': ['A'], 'rs742115': ['T'], 'rs9349379': ['A'], 'rs2814993': ['A'], 'rs10947789': ['T'], 'rs16948048': ['A'], 'rs8080784': ['T'], 'rs2000813': ['T'], 'rs34633411': ['T'], 'rs17616661': ['A'], 'rs425105': ['T'], 'rs9583531': ['T'], 'rs2895811': ['T'], 'rs2507': ['A'], 'rs1800775': ['A'], 'rs12936587': ['A'], 'rs2074158': ['T'], 'rs867186': ['A'], 'rs8141797': ['A'], 'rs12801636': ['A'], 'rs974819': ['T'], 'rs11172113': ['T'], 'rs2681492': ['T'], 'rs7306455': ['A'], 'rs3184504': ['T'], 'rs2244608': ['A'], 'rs9319428': ['A'], 'rs12149545': ['A'], 'rs55791371': ['A'], 'rs4845625': ['T'], 'rs507666': ['A'], 'rs1555321': ['A'], 'rs12264252': ['A'], 'rs7901695': ['T'], 'rs11042937': ['T'], 'rs2327429': ['T'], 'rs41272114': ['T'], 'rs10237377': ['T'], 'rs264': ['A'], 'rs2954029': ['A'], 'rs475957': ['T'], 'rs1333049': ['C'], 'rs4743150': ['T'], 'rs111245230': ['T'], 'rs4977574': ['A'], 'rs651821': ['T'], 'rs6544713': ['T'], 'rs11613352': ['T'], 'rs2814944': ['A'], 'rs602633': ['T'], 'rs4072980': ['A'], 'rs11571537': ['T'], 'rs17465637': ['A'], 'rs699': ['A'], 'rs668948': ['A'], 'rs1561198': ['T'], 'rs2252641': ['T'], 'rs1250229': ['T'], 'rs11718455': ['T'], 'rs12493885': ['C'], 'rs2452600': ['T'], 'rs17035270': ['T'], 'rs35879803': ['A'], 'rs2072633': ['A'], 'rs35610040': ['G'], 'rs72711827': ['A'], 'rs6426551': ['A'], 'rs603424': ['A'], 'rs117204111': ['A'], 'rs6557122': ['T'], 'rs112635299': ['T'], 'rs9912587': ['A'], 'rs7220401': ['T'], 'rs17398575': ['A'], 'rs3936510': ['T'], 'rs1008898': ['T'], 'rs2679053': ['A'], 'rs877549': ['A'], 'rs12214416': ['A'], 'rs140570886': ['T'], 'rs73596816': ['A'], 'rs515135': ['T'], 'rs606452': ['A'], 'rs6841581': ['A'], 'rs644045': ['A']}\n"
     ]
    }
   ],
   "source": [
    "print(mapping)"
   ]
  },
  {
   "cell_type": "markdown",
   "metadata": {},
   "source": [
    "## Simulate data"
   ]
  },
  {
   "cell_type": "code",
   "execution_count": 62,
   "metadata": {},
   "outputs": [],
   "source": [
    "cols_to_keep = ['id', 'raf', 'beta']\n",
    "df = df.drop(df.columns.difference(cols_to_keep), axis=1)\n",
    "df = df.drop_duplicates(subset=['id'])"
   ]
  },
  {
   "cell_type": "code",
   "execution_count": 66,
   "metadata": {},
   "outputs": [],
   "source": [
    "# risk labels, 0=low, 1=medium, 2=high\n",
    "risk_labels = [0, 1, 2]\n",
    "\n",
    "# proportion/probability of each risk (the lower the risk the more common)\n",
    "risk_prob = [0.65, 0.25, 0.1]\n",
    "risk_prob = [0.55, 0.35, 0.1]\n",
    "\n",
    "# varying probabilities of having SNPs\n",
    "low_risk_bias = np.arange(0, 0.7, 0.05)\n",
    "medium_risk_bias = np.arange(0.7, 0.9, 0.05)\n",
    "high_risk_bias = np.arange(0.9, 1, 0.05)\n",
    "risk_bias = [low_risk_bias, medium_risk_bias, high_risk_bias]"
   ]
  },
  {
   "cell_type": "code",
   "execution_count": 64,
   "metadata": {},
   "outputs": [],
   "source": [
    "# risk labels, 0=low, 1=medium, 2=high\n",
    "risk_labels = [0, 1]\n",
    "\n",
    "# proportion/probability of each risk (the lower the risk the more common)\n",
    "risk_prob = [0.99, 0.01]\n",
    "\n",
    "# varying probabilities of having SNPs\n",
    "low_risk_bias = np.arange(0, 0.9, 0.05)\n",
    "medium_risk_bias = np.arange(0.9, 1, 0.05)\n",
    "\n",
    "risk_bias = [low_risk_bias, medium_risk_bias]"
   ]
  },
  {
   "cell_type": "code",
   "execution_count": 67,
   "metadata": {},
   "outputs": [],
   "source": [
    "# simulate 10,000 individuals\n",
    "individuals = []\n",
    "labels = []\n",
    "for _ in range(10000):\n",
    "    label = np.random.choice(a=risk_labels, p=risk_prob)\n",
    "    bias = np.random.choice(risk_bias[label])\n",
    "    snps = (df['raf'].apply(lambda x: np.random.choice(a=[0,1], p=[1-(x*bias), x*bias])))\n",
    "    individuals.append(snps.values)  \n",
    "    labels.append(label)"
   ]
  },
  {
   "cell_type": "code",
   "execution_count": 68,
   "metadata": {},
   "outputs": [],
   "source": [
    "simulated_df = pd.DataFrame(individuals, columns=df['id'])\n",
    "simulated_df.columns.name = 'n'"
   ]
  },
  {
   "cell_type": "code",
   "execution_count": 69,
   "metadata": {},
   "outputs": [],
   "source": [
    "# add polygenic risk score for each individual\n",
    "beta_dict = df.set_index('id')['beta'].to_dict()\n",
    "beta_values = np.array([beta_dict.get(x) for x in simulated_df.columns])\n",
    "prs = simulated_df.apply(lambda x: (x*beta_values).sum(), axis=1)\n",
    "simulated_df['prs'] = prs\n",
    "simulated_df['label'] = labels"
   ]
  },
  {
   "cell_type": "code",
   "execution_count": 70,
   "metadata": {},
   "outputs": [
    {
     "data": {
      "text/plain": [
       "label\n",
       "0    2.567151\n",
       "1    6.220261\n",
       "2    7.240701\n",
       "Name: prs, dtype: float64"
      ]
     },
     "execution_count": 70,
     "metadata": {},
     "output_type": "execute_result"
    }
   ],
   "source": [
    "simulated_df\n",
    "simulated_df.groupby('label')['prs'].mean()"
   ]
  },
  {
   "cell_type": "code",
   "execution_count": 71,
   "metadata": {},
   "outputs": [
    {
     "data": {
      "text/plain": [
       "Text(0, 0.5, 'Frequency')"
      ]
     },
     "execution_count": 71,
     "metadata": {},
     "output_type": "execute_result"
    },
    {
     "data": {
      "image/png": "[encoded data removed]",
      "text/plain": [
       "<Figure size 1280x800 with 1 Axes>"
      ]
     },
     "metadata": {
      "needs_background": "light"
     },
     "output_type": "display_data"
    }
   ],
   "source": [
    "plt.figure(figsize=(16, 10), dpi=80)\n",
    "plt.hist(simulated_df['prs'], 40)\n",
    "plt.title(\"Polygenic Risk Scores for Biased Population (Coronary heart disease)\")\n",
    "plt.xlabel('Polygenic Risk Score')\n",
    "plt.ylabel('Frequency')"
   ]
  },
  {
   "cell_type": "code",
   "execution_count": 72,
   "metadata": {},
   "outputs": [],
   "source": [
    "simulated_df.to_csv('data/heart_data.csv')"
   ]
  },
  {
   "cell_type": "code",
   "execution_count": 73,
   "metadata": {},
   "outputs": [
    {
     "data": {
      "text/html": [
       "<div>\n",
       "<style scoped>\n",
       "    .dataframe tbody tr th:only-of-type {\n",
       "        vertical-align: middle;\n",
       "    }\n",
       "\n",
       "    .dataframe tbody tr th {\n",
       "        vertical-align: top;\n",
       "    }\n",
       "\n",
       "    .dataframe thead th {\n",
       "        text-align: right;\n",
       "    }\n",
       "</style>\n",
       "<table border=\"1\" class=\"dataframe\">\n",
       "  <thead>\n",
       "    <tr style=\"text-align: right;\">\n",
       "      <th>n</th>\n",
       "      <th>rs10455872</th>\n",
       "      <th>rs186696265</th>\n",
       "      <th>rs7412</th>\n",
       "      <th>rs328</th>\n",
       "      <th>rs6511720</th>\n",
       "      <th>rs7528419</th>\n",
       "      <th>rs11057830</th>\n",
       "      <th>rs12740374</th>\n",
       "      <th>rs147233090</th>\n",
       "      <th>rs62471956</th>\n",
       "      <th>...</th>\n",
       "      <th>rs877549</th>\n",
       "      <th>rs12214416</th>\n",
       "      <th>rs140570886</th>\n",
       "      <th>rs73596816</th>\n",
       "      <th>rs515135</th>\n",
       "      <th>rs606452</th>\n",
       "      <th>rs6841581</th>\n",
       "      <th>rs644045</th>\n",
       "      <th>prs</th>\n",
       "      <th>label</th>\n",
       "    </tr>\n",
       "  </thead>\n",
       "  <tbody>\n",
       "    <tr>\n",
       "      <th>0</th>\n",
       "      <td>0</td>\n",
       "      <td>0</td>\n",
       "      <td>0</td>\n",
       "      <td>0</td>\n",
       "      <td>1</td>\n",
       "      <td>0</td>\n",
       "      <td>0</td>\n",
       "      <td>0</td>\n",
       "      <td>0</td>\n",
       "      <td>0</td>\n",
       "      <td>...</td>\n",
       "      <td>0</td>\n",
       "      <td>0</td>\n",
       "      <td>1</td>\n",
       "      <td>0</td>\n",
       "      <td>0</td>\n",
       "      <td>0</td>\n",
       "      <td>0</td>\n",
       "      <td>0</td>\n",
       "      <td>6.0600</td>\n",
       "      <td>1</td>\n",
       "    </tr>\n",
       "    <tr>\n",
       "      <th>1</th>\n",
       "      <td>0</td>\n",
       "      <td>1</td>\n",
       "      <td>0</td>\n",
       "      <td>0</td>\n",
       "      <td>0</td>\n",
       "      <td>1</td>\n",
       "      <td>0</td>\n",
       "      <td>0</td>\n",
       "      <td>1</td>\n",
       "      <td>0</td>\n",
       "      <td>...</td>\n",
       "      <td>0</td>\n",
       "      <td>0</td>\n",
       "      <td>0</td>\n",
       "      <td>0</td>\n",
       "      <td>0</td>\n",
       "      <td>0</td>\n",
       "      <td>0</td>\n",
       "      <td>0</td>\n",
       "      <td>21.6282</td>\n",
       "      <td>1</td>\n",
       "    </tr>\n",
       "    <tr>\n",
       "      <th>2</th>\n",
       "      <td>0</td>\n",
       "      <td>0</td>\n",
       "      <td>0</td>\n",
       "      <td>0</td>\n",
       "      <td>0</td>\n",
       "      <td>0</td>\n",
       "      <td>0</td>\n",
       "      <td>0</td>\n",
       "      <td>0</td>\n",
       "      <td>0</td>\n",
       "      <td>...</td>\n",
       "      <td>0</td>\n",
       "      <td>0</td>\n",
       "      <td>1</td>\n",
       "      <td>0</td>\n",
       "      <td>0</td>\n",
       "      <td>1</td>\n",
       "      <td>0</td>\n",
       "      <td>1</td>\n",
       "      <td>2.1795</td>\n",
       "      <td>0</td>\n",
       "    </tr>\n",
       "    <tr>\n",
       "      <th>3</th>\n",
       "      <td>0</td>\n",
       "      <td>0</td>\n",
       "      <td>0</td>\n",
       "      <td>1</td>\n",
       "      <td>0</td>\n",
       "      <td>0</td>\n",
       "      <td>0</td>\n",
       "      <td>0</td>\n",
       "      <td>0</td>\n",
       "      <td>0</td>\n",
       "      <td>...</td>\n",
       "      <td>0</td>\n",
       "      <td>0</td>\n",
       "      <td>1</td>\n",
       "      <td>0</td>\n",
       "      <td>0</td>\n",
       "      <td>0</td>\n",
       "      <td>0</td>\n",
       "      <td>0</td>\n",
       "      <td>5.6760</td>\n",
       "      <td>0</td>\n",
       "    </tr>\n",
       "    <tr>\n",
       "      <th>4</th>\n",
       "      <td>0</td>\n",
       "      <td>0</td>\n",
       "      <td>0</td>\n",
       "      <td>0</td>\n",
       "      <td>0</td>\n",
       "      <td>0</td>\n",
       "      <td>0</td>\n",
       "      <td>1</td>\n",
       "      <td>0</td>\n",
       "      <td>0</td>\n",
       "      <td>...</td>\n",
       "      <td>0</td>\n",
       "      <td>0</td>\n",
       "      <td>1</td>\n",
       "      <td>0</td>\n",
       "      <td>0</td>\n",
       "      <td>0</td>\n",
       "      <td>0</td>\n",
       "      <td>0</td>\n",
       "      <td>10.1418</td>\n",
       "      <td>1</td>\n",
       "    </tr>\n",
       "    <tr>\n",
       "      <th>...</th>\n",
       "      <td>...</td>\n",
       "      <td>...</td>\n",
       "      <td>...</td>\n",
       "      <td>...</td>\n",
       "      <td>...</td>\n",
       "      <td>...</td>\n",
       "      <td>...</td>\n",
       "      <td>...</td>\n",
       "      <td>...</td>\n",
       "      <td>...</td>\n",
       "      <td>...</td>\n",
       "      <td>...</td>\n",
       "      <td>...</td>\n",
       "      <td>...</td>\n",
       "      <td>...</td>\n",
       "      <td>...</td>\n",
       "      <td>...</td>\n",
       "      <td>...</td>\n",
       "      <td>...</td>\n",
       "      <td>...</td>\n",
       "      <td>...</td>\n",
       "    </tr>\n",
       "    <tr>\n",
       "      <th>9995</th>\n",
       "      <td>0</td>\n",
       "      <td>0</td>\n",
       "      <td>0</td>\n",
       "      <td>0</td>\n",
       "      <td>0</td>\n",
       "      <td>0</td>\n",
       "      <td>0</td>\n",
       "      <td>0</td>\n",
       "      <td>0</td>\n",
       "      <td>0</td>\n",
       "      <td>...</td>\n",
       "      <td>0</td>\n",
       "      <td>0</td>\n",
       "      <td>1</td>\n",
       "      <td>0</td>\n",
       "      <td>0</td>\n",
       "      <td>0</td>\n",
       "      <td>1</td>\n",
       "      <td>1</td>\n",
       "      <td>2.9458</td>\n",
       "      <td>1</td>\n",
       "    </tr>\n",
       "    <tr>\n",
       "      <th>9996</th>\n",
       "      <td>0</td>\n",
       "      <td>0</td>\n",
       "      <td>0</td>\n",
       "      <td>0</td>\n",
       "      <td>0</td>\n",
       "      <td>0</td>\n",
       "      <td>0</td>\n",
       "      <td>0</td>\n",
       "      <td>0</td>\n",
       "      <td>0</td>\n",
       "      <td>...</td>\n",
       "      <td>0</td>\n",
       "      <td>0</td>\n",
       "      <td>1</td>\n",
       "      <td>0</td>\n",
       "      <td>0</td>\n",
       "      <td>0</td>\n",
       "      <td>0</td>\n",
       "      <td>0</td>\n",
       "      <td>2.8953</td>\n",
       "      <td>1</td>\n",
       "    </tr>\n",
       "    <tr>\n",
       "      <th>9997</th>\n",
       "      <td>0</td>\n",
       "      <td>0</td>\n",
       "      <td>0</td>\n",
       "      <td>0</td>\n",
       "      <td>0</td>\n",
       "      <td>1</td>\n",
       "      <td>0</td>\n",
       "      <td>0</td>\n",
       "      <td>0</td>\n",
       "      <td>0</td>\n",
       "      <td>...</td>\n",
       "      <td>0</td>\n",
       "      <td>0</td>\n",
       "      <td>1</td>\n",
       "      <td>0</td>\n",
       "      <td>0</td>\n",
       "      <td>0</td>\n",
       "      <td>0</td>\n",
       "      <td>0</td>\n",
       "      <td>3.3809</td>\n",
       "      <td>1</td>\n",
       "    </tr>\n",
       "    <tr>\n",
       "      <th>9998</th>\n",
       "      <td>0</td>\n",
       "      <td>0</td>\n",
       "      <td>0</td>\n",
       "      <td>0</td>\n",
       "      <td>0</td>\n",
       "      <td>0</td>\n",
       "      <td>0</td>\n",
       "      <td>0</td>\n",
       "      <td>0</td>\n",
       "      <td>0</td>\n",
       "      <td>...</td>\n",
       "      <td>0</td>\n",
       "      <td>0</td>\n",
       "      <td>0</td>\n",
       "      <td>0</td>\n",
       "      <td>0</td>\n",
       "      <td>0</td>\n",
       "      <td>0</td>\n",
       "      <td>0</td>\n",
       "      <td>0.5596</td>\n",
       "      <td>0</td>\n",
       "    </tr>\n",
       "    <tr>\n",
       "      <th>9999</th>\n",
       "      <td>0</td>\n",
       "      <td>0</td>\n",
       "      <td>0</td>\n",
       "      <td>0</td>\n",
       "      <td>0</td>\n",
       "      <td>0</td>\n",
       "      <td>0</td>\n",
       "      <td>0</td>\n",
       "      <td>0</td>\n",
       "      <td>0</td>\n",
       "      <td>...</td>\n",
       "      <td>0</td>\n",
       "      <td>0</td>\n",
       "      <td>1</td>\n",
       "      <td>0</td>\n",
       "      <td>0</td>\n",
       "      <td>0</td>\n",
       "      <td>0</td>\n",
       "      <td>0</td>\n",
       "      <td>3.0295</td>\n",
       "      <td>1</td>\n",
       "    </tr>\n",
       "  </tbody>\n",
       "</table>\n",
       "<p>10000 rows × 122 columns</p>\n",
       "</div>"
      ],
      "text/plain": [
       "n     rs10455872  rs186696265  rs7412  rs328  rs6511720  rs7528419  \\\n",
       "0              0            0       0      0          1          0   \n",
       "1              0            1       0      0          0          1   \n",
       "2              0            0       0      0          0          0   \n",
       "3              0            0       0      1          0          0   \n",
       "4              0            0       0      0          0          0   \n",
       "...          ...          ...     ...    ...        ...        ...   \n",
       "9995           0            0       0      0          0          0   \n",
       "9996           0            0       0      0          0          0   \n",
       "9997           0            0       0      0          0          1   \n",
       "9998           0            0       0      0          0          0   \n",
       "9999           0            0       0      0          0          0   \n",
       "\n",
       "n     rs11057830  rs12740374  rs147233090  rs62471956  ...  rs877549  \\\n",
       "0              0           0            0           0  ...         0   \n",
       "1              0           0            1           0  ...         0   \n",
       "2              0           0            0           0  ...         0   \n",
       "3              0           0            0           0  ...         0   \n",
       "4              0           1            0           0  ...         0   \n",
       "...          ...         ...          ...         ...  ...       ...   \n",
       "9995           0           0            0           0  ...         0   \n",
       "9996           0           0            0           0  ...         0   \n",
       "9997           0           0            0           0  ...         0   \n",
       "9998           0           0            0           0  ...         0   \n",
       "9999           0           0            0           0  ...         0   \n",
       "\n",
       "n     rs12214416  rs140570886  rs73596816  rs515135  rs606452  rs6841581  \\\n",
       "0              0            1           0         0         0          0   \n",
       "1              0            0           0         0         0          0   \n",
       "2              0            1           0         0         1          0   \n",
       "3              0            1           0         0         0          0   \n",
       "4              0            1           0         0         0          0   \n",
       "...          ...          ...         ...       ...       ...        ...   \n",
       "9995           0            1           0         0         0          1   \n",
       "9996           0            1           0         0         0          0   \n",
       "9997           0            1           0         0         0          0   \n",
       "9998           0            0           0         0         0          0   \n",
       "9999           0            1           0         0         0          0   \n",
       "\n",
       "n     rs644045      prs  label  \n",
       "0            0   6.0600      1  \n",
       "1            0  21.6282      1  \n",
       "2            1   2.1795      0  \n",
       "3            0   5.6760      0  \n",
       "4            0  10.1418      1  \n",
       "...        ...      ...    ...  \n",
       "9995         1   2.9458      1  \n",
       "9996         0   2.8953      1  \n",
       "9997         0   3.3809      1  \n",
       "9998         0   0.5596      0  \n",
       "9999         0   3.0295      1  \n",
       "\n",
       "[10000 rows x 122 columns]"
      ]
     },
     "execution_count": 73,
     "metadata": {},
     "output_type": "execute_result"
    }
   ],
   "source": [
    "simulated_df"
   ]
  },
  {
   "cell_type": "markdown",
   "metadata": {},
   "source": [
    "## model training"
   ]
  },
  {
   "cell_type": "code",
   "execution_count": 74,
   "metadata": {},
   "outputs": [],
   "source": [
    "df = pd.read_csv('data/heart_data.csv')\n",
    "\n",
    "X = df.drop(['label','Unnamed: 0','prs'], axis=1)\n",
    "y = df['label']\n",
    "X_train, X_test, y_train, y_test = train_test_split(X, y, test_size=0.2, random_state=1)"
   ]
  },
  {
   "cell_type": "code",
   "execution_count": 75,
   "metadata": {},
   "outputs": [
    {
     "name": "stdout",
     "output_type": "stream",
     "text": [
      "(8000, 120)\n",
      "(2000, 120)\n",
      "(8000,)\n",
      "(2000,)\n"
     ]
    }
   ],
   "source": [
    "print(X_train.shape)\n",
    "print(X_test.shape)\n",
    "print(y_train.shape)\n",
    "print(y_test.shape)"
   ]
  },
  {
   "cell_type": "code",
   "execution_count": 76,
   "metadata": {},
   "outputs": [],
   "source": [
    "def plot_multiclass_roc(clf, X_test, y_test, n_classes, figsize=(17, 6)):\n",
    "    y_score = clf.predict_proba(X_test)\n",
    "\n",
    "    # structures\n",
    "    fpr = dict()\n",
    "    tpr = dict()\n",
    "    roc_auc = dict()\n",
    "\n",
    "    # calculate dummies once\n",
    "    y_test_dummies = pd.get_dummies(y_test, drop_first=False).values\n",
    "    for i in range(n_classes):\n",
    "        fpr[i], tpr[i], _ = roc_curve(y_test_dummies[:, i], y_score[:, i])\n",
    "        roc_auc[i] = metrics.auc(fpr[i], tpr[i])\n",
    "\n",
    "    # roc for each class\n",
    "    fig, ax = plt.subplots(figsize=figsize)\n",
    "    ax.plot([0, 1], [0, 1], 'k--')\n",
    "    ax.set_xlim([0.0, 1.0])\n",
    "    ax.set_ylim([0.0, 1.05])\n",
    "    ax.set_xlabel('False Positive Rate')\n",
    "    ax.set_ylabel('True Positive Rate')\n",
    "    ax.set_title('ROC curve')\n",
    "    labels = ['Low', 'Medium', 'High']\n",
    "    for i in range(n_classes):\n",
    "        ax.plot(fpr[i], tpr[i], label='ROC curve (area = %0.2f) for %s Risk' % (roc_auc[i], labels[i]))\n",
    "    ax.legend(loc=\"best\")\n",
    "    ax.grid(alpha=.4)\n",
    "    sns.despine()\n",
    "    plt.show()\n"
   ]
  },
  {
   "cell_type": "code",
   "execution_count": 77,
   "metadata": {},
   "outputs": [],
   "source": [
    "from hyperopt import hp\n",
    "from hyperopt import Trials\n",
    "from hyperopt import fmin, tpe\n",
    "from hyperopt import STATUS_OK"
   ]
  },
  {
   "cell_type": "code",
   "execution_count": 78,
   "metadata": {},
   "outputs": [],
   "source": [
    "space={'max_depth': hp.quniform(\"max_depth\", 3, 10, 1),\n",
    "        'gamma': hp.uniform ('gamma', 1,3),\n",
    "        'learning_rate' : hp.quniform('learning_rate', 0.01,1,0.05),\n",
    "        'colsample_bytree' : hp.uniform('colsample_bytree', 0.5,1),\n",
    "        'min_child_weight' : hp.quniform('min_child_weight', 0, 5, 1),\n",
    "        'n_estimators': 100,\n",
    "        'seed': 0\n",
    "    }"
   ]
  },
  {
   "cell_type": "code",
   "execution_count": 79,
   "metadata": {},
   "outputs": [],
   "source": [
    "def objective(space):\n",
    "    clf=XGBClassifier(\n",
    "                    n_estimators =space['n_estimators'], max_depth = int(space['max_depth']), gamma = space['gamma'],\n",
    "                    learning_rate = int(space['learning_rate']),min_child_weight=int(space['min_child_weight']),\n",
    "                    colsample_bytree=int(space['colsample_bytree']))\n",
    "    \n",
    "    evaluation = [( X_train, y_train), ( X_test, y_test)]\n",
    "    \n",
    "    clf.fit(X_train, y_train,\n",
    "            eval_set=evaluation, eval_metric=\"auc\",\n",
    "            early_stopping_rounds=10,verbose=False)\n",
    "    \n",
    "\n",
    "    pred = clf.predict(X_test)\n",
    "    score = f1_score(y_test, pred, average='micro')\n",
    "    return {'loss': -score, 'status': STATUS_OK }\n"
   ]
  },
  {
   "cell_type": "code",
   "execution_count": 80,
   "metadata": {},
   "outputs": [
    {
     "name": "stdout",
     "output_type": "stream",
     "text": [
      "100%|██████████| 100/100 [00:11<00:00,  8.87it/s, best loss: -0.811]\n"
     ]
    }
   ],
   "source": [
    "trials = Trials()\n",
    "\n",
    "best_hyperparams = fmin(fn = objective,\n",
    "                        space = space,\n",
    "                        algo = tpe.suggest,\n",
    "                        max_evals = 100,\n",
    "                        trials = trials)"
   ]
  },
  {
   "cell_type": "code",
   "execution_count": 81,
   "metadata": {},
   "outputs": [
    {
     "name": "stdout",
     "output_type": "stream",
     "text": [
      "The best hyperparameters are :  \n",
      "\n",
      "{'colsample_bytree': 0.8493614119928367, 'gamma': 1.1114682026143008, 'learning_rate': 1.0, 'max_depth': 6.0, 'min_child_weight': 3.0}\n"
     ]
    }
   ],
   "source": [
    "print(\"The best hyperparameters are : \",\"\\n\")\n",
    "print(best_hyperparams)"
   ]
  },
  {
   "cell_type": "code",
   "execution_count": 82,
   "metadata": {},
   "outputs": [
    {
     "name": "stdout",
     "output_type": "stream",
     "text": [
      "[16:26:13] WARNING: /Users/travis/build/dmlc/xgboost/src/learner.cc:1095: Starting in XGBoost 1.3.0, the default evaluation metric used with the objective 'multi:softprob' was changed from 'merror' to 'mlogloss'. Explicitly set eval_metric if you'd like to restore the old behavior.\n"
     ]
    },
    {
     "data": {
      "text/plain": [
       "XGBClassifier(base_score=0.5, booster='gbtree', colsample_bylevel=1,\n",
       "              colsample_bynode=1, colsample_bytree=0.8493614119928367,\n",
       "              gamma=1.1114682026143008, gpu_id=-1, importance_type='gain',\n",
       "              interaction_constraints='', learning_rate=1.0, max_delta_step=0,\n",
       "              max_depth=6, min_child_weight=3.0, missing=nan,\n",
       "              monotone_constraints='()', n_estimators=100, n_jobs=12,\n",
       "              num_parallel_tree=1, objective='multi:softprob', random_state=0,\n",
       "              reg_alpha=0, reg_lambda=1, scale_pos_weight=None, subsample=1,\n",
       "              tree_method='exact', validate_parameters=1, verbosity=None)"
      ]
     },
     "execution_count": 82,
     "metadata": {},
     "output_type": "execute_result"
    }
   ],
   "source": [
    "xgb_opt = XGBClassifier(n_estimators = 100,\n",
    "                            max_depth = int(best_hyperparams['max_depth']),\n",
    "                            learning_rate = best_hyperparams['learning_rate'],\n",
    "                            gamma = best_hyperparams['gamma'],\n",
    "                            min_child_weight = best_hyperparams['min_child_weight'],\n",
    "                            colsample_bytree = best_hyperparams['colsample_bytree']\n",
    "                            )\n",
    "xgb_opt.fit(X_train, y_train)"
   ]
  },
  {
   "cell_type": "code",
   "execution_count": 83,
   "metadata": {},
   "outputs": [
    {
     "name": "stdout",
     "output_type": "stream",
     "text": [
      "              precision    recall  f1-score   support\n",
      "\n",
      "    Low Risk       0.93      0.92      0.92      1078\n",
      " Medium Risk       0.71      0.79      0.75       714\n",
      "   High Risk       0.44      0.27      0.33       208\n",
      "\n",
      "    accuracy                           0.81      2000\n",
      "   macro avg       0.69      0.66      0.67      2000\n",
      "weighted avg       0.80      0.81      0.80      2000\n",
      "\n",
      "auc score is:  0.9122204242345905\n"
     ]
    },
    {
     "data": {
      "image/png": "[encoded data removed]",
      "text/plain": [
       "<Figure size 1152x720 with 1 Axes>"
      ]
     },
     "metadata": {
      "needs_background": "light"
     },
     "output_type": "display_data"
    }
   ],
   "source": [
    "y_pred_xgb = xgb_opt.predict(X_test)\n",
    "print(classification_report(y_test, y_pred_xgb, target_names=['Low Risk', 'Medium Risk', 'High Risk']))\n",
    "auc_val = roc_auc_score(y_test, xgb_opt.predict_proba(X_test), multi_class='ovr')\n",
    "print(\"auc score is: \", auc_val)\n",
    "plot_multiclass_roc(xgb_opt, X_test, y_test, n_classes=3, figsize=(16, 10))"
   ]
  },
  {
   "cell_type": "code",
   "execution_count": 81,
   "metadata": {},
   "outputs": [
    {
     "name": "stdout",
     "output_type": "stream",
     "text": [
      "[12:09:50] WARNING: /Users/travis/build/dmlc/xgboost/src/learner.cc:1095: Starting in XGBoost 1.3.0, the default evaluation metric used with the objective 'multi:softprob' was changed from 'merror' to 'mlogloss'. Explicitly set eval_metric if you'd like to restore the old behavior.\n"
     ]
    },
    {
     "data": {
      "text/plain": [
       "XGBClassifier(base_score=0.5, booster='gbtree', colsample_bylevel=1,\n",
       "              colsample_bynode=1, colsample_bytree=1, gamma=0, gpu_id=-1,\n",
       "              importance_type='gain', interaction_constraints='',\n",
       "              learning_rate=0.15, max_delta_step=0, max_depth=6,\n",
       "              min_child_weight=1, missing=nan, monotone_constraints='()',\n",
       "              n_estimators=100, n_jobs=12, num_parallel_tree=1,\n",
       "              objective='multi:softprob', random_state=0, reg_alpha=0.5,\n",
       "              reg_lambda=1, scale_pos_weight=None, subsample=1,\n",
       "              tree_method='exact', validate_parameters=1, verbosity=None)"
      ]
     },
     "execution_count": 81,
     "metadata": {},
     "output_type": "execute_result"
    }
   ],
   "source": [
    "xgb_opt = XGBClassifier(learning_rate=0.15, reg_alpha=0.5)\n",
    "xgb_opt.fit(X_train, y_train)"
   ]
  },
  {
   "cell_type": "code",
   "execution_count": 82,
   "metadata": {},
   "outputs": [
    {
     "name": "stdout",
     "output_type": "stream",
     "text": [
      "              precision    recall  f1-score   support\n",
      "\n",
      "    Low Risk       0.93      0.94      0.93      1285\n",
      " Medium Risk       0.64      0.75      0.69       522\n",
      "   High Risk       0.58      0.30      0.39       193\n",
      "\n",
      "    accuracy                           0.83      2000\n",
      "   macro avg       0.72      0.66      0.67      2000\n",
      "weighted avg       0.82      0.83      0.82      2000\n",
      "\n",
      "auc score is:  0.9340472399934353\n"
     ]
    },
    {
     "data": {
      "image/png": "[encoded data removed]",
      "text/plain": [
       "<Figure size 1152x720 with 1 Axes>"
      ]
     },
     "metadata": {
      "needs_background": "light"
     },
     "output_type": "display_data"
    }
   ],
   "source": [
    "y_pred_xgb = xgb_opt.predict(X_test)\n",
    "print(classification_report(y_test, y_pred_xgb, target_names=['Low Risk', 'Medium Risk', 'High Risk']))\n",
    "auc_val = roc_auc_score(y_test, xgb_opt.predict_proba(X_test), multi_class='ovr')\n",
    "print(\"auc score is: \", auc_val)\n",
    "plot_multiclass_roc(xgb_opt, X_test, y_test, n_classes=3, figsize=(16, 10))"
   ]
  },
  {
   "cell_type": "code",
   "execution_count": 107,
   "metadata": {},
   "outputs": [
    {
     "data": {
      "text/plain": [
       "['heart-model-young.pkl']"
      ]
     },
     "execution_count": 107,
     "metadata": {},
     "output_type": "execute_result"
    }
   ],
   "source": [
    "# from sklearn.externals import joblib\n",
    "import joblib\n",
    "  \n",
    "# Save the model as a pickle in a file\n",
    "joblib.dump(xgb_opt, 'heart-model-old.pkl')"
   ]
  },
  {
   "cell_type": "code",
   "execution_count": null,
   "metadata": {},
   "outputs": [],
   "source": []
  }
 ],
 "metadata": {
  "kernelspec": {
   "display_name": "Python 3",
   "language": "python",
   "name": "python3"
  },
  "language_info": {
   "codemirror_mode": {
    "name": "ipython",
    "version": 3
   },
   "file_extension": ".py",
   "mimetype": "text/x-python",
   "name": "python",
   "nbconvert_exporter": "python",
   "pygments_lexer": "ipython3",
   "version": "3.7.6"
  }
 },
 "nbformat": 4,
 "nbformat_minor": 4
}

{
 "cells": [
  {
   "cell_type": "markdown",
   "metadata": {},
   "source": [
    "## In this notebook, I will be preprocessing data and training model to predict Alzheimer risk for 23andme users"
   ]
  },
  {
   "cell_type": "code",
   "execution_count": 66,
   "metadata": {},
   "outputs": [],
   "source": [
    "import pandas as pd\n",
    "import numpy as np\n",
    "import matplotlib.pyplot as plt\n",
    "import seaborn as sns\n",
    "import random \n",
    "\n",
    "from sklearn.model_selection import train_test_split\n",
    "from sklearn import linear_model\n",
    "from sklearn.ensemble import RandomForestClassifier\n",
    "from sklearn import svm\n",
    "from sklearn.neighbors import KNeighborsClassifier\n",
    "from sklearn import tree\n",
    "from sklearn.neural_network import MLPClassifier\n",
    "from sklearn.naive_bayes import GaussianNB\n",
    "from xgboost import XGBClassifier\n",
    "from sklearn.metrics import f1_score\n",
    "from sklearn.model_selection import GridSearchCV\n",
    "from sklearn.model_selection import RandomizedSearchCV\n",
    "from sklearn.metrics import roc_curve\n",
    "from sklearn import metrics\n",
    "from sklearn.metrics import roc_auc_score\n",
    "from sklearn.metrics import classification_report\n",
    "\n",
    "import warnings\n",
    "warnings.filterwarnings(\"ignore\")"
   ]
  },
  {
   "cell_type": "code",
   "execution_count": 67,
   "metadata": {},
   "outputs": [],
   "source": [
    "# load datasets\n",
    "df = pd.read_csv('data/efotraits_EFO_0000249-associations.csv')\n",
    "\n",
    "# process dataset \n",
    "cols_to_keep = ['Variant and risk allele', 'RAF', 'Beta']\n",
    "df = df.drop(df.columns.difference(cols_to_keep), axis=1)\n",
    "df = df.replace('NR',np.nan)\n",
    "df = df.replace(\"'-\",np.nan)\n",
    "df = df.dropna()\n",
    "\n",
    "df = df.rename(columns = {'Variant and risk allele':'id','RAF':'raf', 'Beta':'beta'})\n",
    "\n",
    "df['allele'] = df['id'].str.split(\"<b>\", 1, expand=True)[1].str[0]\n",
    "df['id'] = df['id'].str.split(\"-\", 1, expand=True)\n",
    "df['beta'] = df['beta'].str.split(\" \", 1, expand=True)\n",
    "\n",
    "df = df.replace(\"?\",np.nan)\n",
    "df = df.dropna()\n",
    "\n",
    "df['raf'] = df['raf'].astype(float)\n",
    "df['beta'] = df['beta'].astype(float)\n",
    "\n",
    "# save dataframe to csv\n",
    "df.to_csv('data/EFO_0000249.csv')"
   ]
  },
  {
   "cell_type": "code",
   "execution_count": 68,
   "metadata": {},
   "outputs": [
    {
     "name": "stdout",
     "output_type": "stream",
     "text": [
      "631955\n"
     ]
    }
   ],
   "source": [
    "user_data_1 = pd.read_csv('example1.txt', sep='\\t', dtype={'rsid':'str', 'chromosome':'object', 'position':'int', 'genotype':'str'}, comment='#', names = ['rsid', 'chromosome', 'position', 'genotype'])\n",
    "user_snps_1 = user_data_1['rsid'].tolist()\n",
    "print(len(user_snps_1))"
   ]
  },
  {
   "cell_type": "code",
   "execution_count": 69,
   "metadata": {},
   "outputs": [
    {
     "name": "stdout",
     "output_type": "stream",
     "text": [
      "['rs141864196', 'rs1160984', 'rs6733839', 'rs62118504', 'rs76856627', 'rs10948363', 'rs7313581', 'rs79926713', 'rs3865444', 'rs138607350', 'rs73239797', 'rs1476679', 'rs10421247', 'rs9331896', 'rs6656401', 'rs79846291', 'rs28834970', 'rs7274581', 'rs123187', 'rs2965164', 'rs11771145', 'rs9271192', 'rs4663105', 'rs6931277', 'rs72842919', 'rs7412', 'rs10792832', 'rs983392', 'rs7155434', 'rs143332484', 'rs6859', 'rs62256378', 'rs2456930', 'rs80257887', 'rs11055612', 'rs2965169', 'rs11218343', 'rs35349669', 'rs157580', 'rs7810606']\n",
      "40\n"
     ]
    }
   ],
   "source": [
    "data_snps = df['id'].tolist()\n",
    "row_to_keep = list(set(user_snps_1) & set(data_snps))\n",
    "print(row_to_keep)\n",
    "print(len(row_to_keep))"
   ]
  },
  {
   "cell_type": "code",
   "execution_count": 70,
   "metadata": {},
   "outputs": [],
   "source": [
    "df = df[df['id'].isin(row_to_keep)]"
   ]
  },
  {
   "cell_type": "code",
   "execution_count": 71,
   "metadata": {},
   "outputs": [],
   "source": [
    "mapping = {}\n",
    "for _, row in df.iterrows():\n",
    "    if row['id'] not in mapping:\n",
    "        mapping[row['id']] = [row['allele']]\n",
    "    else:\n",
    "        mapping[row['id']].append(row['allele'])\n"
   ]
  },
  {
   "cell_type": "code",
   "execution_count": 72,
   "metadata": {},
   "outputs": [
    {
     "name": "stdout",
     "output_type": "stream",
     "text": [
      "{'rs7313581': ['T'], 'rs79926713': ['T'], 'rs73239797': ['A'], 'rs79846291': ['T'], 'rs72842919': ['A'], 'rs11055612': ['C'], 'rs7155434': ['A'], 'rs2456930': ['G'], 'rs62256378': ['A'], 'rs11218343': ['C'], 'rs11771145': ['A'], 'rs1476679': ['C'], 'rs28834970': ['C'], 'rs35349669': ['T'], 'rs6656401': ['A'], 'rs6733839': ['T'], 'rs7274581': ['C'], 'rs9331896': ['C'], 'rs983392': ['G'], 'rs3865444': ['A'], 'rs4663105': ['C'], 'rs7810606': ['T'], 'rs7412': ['T'], 'rs138607350': ['G'], 'rs2965169': ['C'], 'rs1160984': ['T'], 'rs76856627': ['G'], 'rs2965164': ['T'], 'rs62118504': ['G'], 'rs80257887': ['A'], 'rs141864196': ['A'], 'rs10421247': ['C'], 'rs143332484': ['T'], 'rs123187': ['A'], 'rs10792832': ['A'], 'rs10948363': ['G'], 'rs157580': ['G'], 'rs6859': ['A'], 'rs9271192': ['C'], 'rs6931277': ['T']}\n"
     ]
    }
   ],
   "source": [
    "print(mapping)"
   ]
  },
  {
   "cell_type": "markdown",
   "metadata": {},
   "source": [
    "## Simulate data"
   ]
  },
  {
   "cell_type": "code",
   "execution_count": 73,
   "metadata": {},
   "outputs": [],
   "source": [
    "cols_to_keep = ['id', 'raf', 'beta']\n",
    "df = df.drop(df.columns.difference(cols_to_keep), axis=1)\n",
    "df = df.drop_duplicates(subset=['id'])"
   ]
  },
  {
   "cell_type": "code",
   "execution_count": 74,
   "metadata": {},
   "outputs": [],
   "source": [
    "# risk labels, 0=low, 1=medium, 2=high\n",
    "risk_labels = [0, 1, 2]\n",
    "\n",
    "# proportion/probability of each risk (the lower the risk the more common)\n",
    "# for 60 and older\n",
    "risk_prob = [0.55, 0.35, 0.1]\n",
    "\n",
    "\n",
    "# varying probabilities of having SNPs\n",
    "low_risk_bias = np.arange(0, 0.6, 0.05)\n",
    "medium_risk_bias = np.arange(0.6, 0.9, 0.05)\n",
    "high_risk_bias = np.arange(0.9, 1, 0.05)\n",
    "risk_bias = [low_risk_bias, medium_risk_bias, high_risk_bias]"
   ]
  },
  {
   "cell_type": "code",
   "execution_count": 31,
   "metadata": {},
   "outputs": [],
   "source": [
    "# risk labels, 0=low, 1=medium, 2=high\n",
    "risk_labels = [0, 1]\n",
    "\n",
    "# proportion/probability of each risk (the lower the risk the more common)\n",
    "#for younger\n",
    "risk_prob = [0.99, 0.01]\n",
    "\n",
    "# varying probabilities of having SNPs\n",
    "low_risk_bias = np.arange(0, 0.9, 0.05)\n",
    "medium_risk_bias = np.arange(0.9, 1, 0.05)\n",
    "risk_bias = [low_risk_bias, medium_risk_bias]"
   ]
  },
  {
   "cell_type": "code",
   "execution_count": 75,
   "metadata": {},
   "outputs": [],
   "source": [
    "# simulate 10,000 individuals\n",
    "individuals = []\n",
    "labels = []\n",
    "for _ in range(10000):\n",
    "    label = np.random.choice(a=risk_labels, p=risk_prob)\n",
    "    bias = np.random.choice(risk_bias[label])\n",
    "    snps = (df['raf'].apply(lambda x: np.random.choice(a=[0,1], p=[1-(x*bias), x*bias])))\n",
    "    individuals.append(snps.values)  \n",
    "    labels.append(label)"
   ]
  },
  {
   "cell_type": "code",
   "execution_count": 76,
   "metadata": {},
   "outputs": [],
   "source": [
    "simulated_df = pd.DataFrame(individuals, columns=df['id'])\n",
    "simulated_df.columns.name = 'n'"
   ]
  },
  {
   "cell_type": "code",
   "execution_count": 77,
   "metadata": {},
   "outputs": [],
   "source": [
    "# add polygenic risk score for each individual\n",
    "beta_dict = df.set_index('id')['beta'].to_dict()\n",
    "beta_values = np.array([beta_dict.get(x) for x in simulated_df.columns])\n",
    "prs = simulated_df.apply(lambda x: (x*beta_values).sum(), axis=1)\n",
    "simulated_df['prs'] = prs\n",
    "simulated_df['label'] = labels"
   ]
  },
  {
   "cell_type": "code",
   "execution_count": 78,
   "metadata": {},
   "outputs": [
    {
     "data": {
      "text/plain": [
       "label\n",
       "0    1181.232074\n",
       "1    3183.855560\n",
       "2    3979.398357\n",
       "Name: prs, dtype: float64"
      ]
     },
     "execution_count": 78,
     "metadata": {},
     "output_type": "execute_result"
    }
   ],
   "source": [
    "simulated_df\n",
    "simulated_df.groupby('label')['prs'].mean()"
   ]
  },
  {
   "cell_type": "code",
   "execution_count": 79,
   "metadata": {},
   "outputs": [
    {
     "data": {
      "text/plain": [
       "Text(0, 0.5, 'Frequency')"
      ]
     },
     "execution_count": 79,
     "metadata": {},
     "output_type": "execute_result"
    },
    {
     "data": {
      "image/png": "[encoded data removed]",
      "text/plain": [
       "<Figure size 1280x800 with 1 Axes>"
      ]
     },
     "metadata": {
      "needs_background": "light"
     },
     "output_type": "display_data"
    }
   ],
   "source": [
    "plt.figure(figsize=(16, 10), dpi=80)\n",
    "plt.hist(simulated_df['prs'], 40)\n",
    "plt.title(\"Polygenic Risk Scores for Biased Population (Alzheimer's disease)\")\n",
    "plt.xlabel('Polygenic Risk Score')\n",
    "plt.ylabel('Frequency')"
   ]
  },
  {
   "cell_type": "code",
   "execution_count": 80,
   "metadata": {},
   "outputs": [],
   "source": [
    "simulated_df.to_csv('data/alzheimer_data.csv')"
   ]
  },
  {
   "cell_type": "code",
   "execution_count": 81,
   "metadata": {},
   "outputs": [
    {
     "data": {
      "text/html": [
       "<div>\n",
       "<style scoped>\n",
       "    .dataframe tbody tr th:only-of-type {\n",
       "        vertical-align: middle;\n",
       "    }\n",
       "\n",
       "    .dataframe tbody tr th {\n",
       "        vertical-align: top;\n",
       "    }\n",
       "\n",
       "    .dataframe thead th {\n",
       "        text-align: right;\n",
       "    }\n",
       "</style>\n",
       "<table border=\"1\" class=\"dataframe\">\n",
       "  <thead>\n",
       "    <tr style=\"text-align: right;\">\n",
       "      <th>n</th>\n",
       "      <th>rs7313581</th>\n",
       "      <th>rs79926713</th>\n",
       "      <th>rs73239797</th>\n",
       "      <th>rs79846291</th>\n",
       "      <th>rs72842919</th>\n",
       "      <th>rs11055612</th>\n",
       "      <th>rs7155434</th>\n",
       "      <th>rs2456930</th>\n",
       "      <th>rs62256378</th>\n",
       "      <th>rs11218343</th>\n",
       "      <th>...</th>\n",
       "      <th>rs143332484</th>\n",
       "      <th>rs123187</th>\n",
       "      <th>rs10792832</th>\n",
       "      <th>rs10948363</th>\n",
       "      <th>rs157580</th>\n",
       "      <th>rs6859</th>\n",
       "      <th>rs9271192</th>\n",
       "      <th>rs6931277</th>\n",
       "      <th>prs</th>\n",
       "      <th>label</th>\n",
       "    </tr>\n",
       "  </thead>\n",
       "  <tbody>\n",
       "    <tr>\n",
       "      <th>0</th>\n",
       "      <td>0</td>\n",
       "      <td>0</td>\n",
       "      <td>0</td>\n",
       "      <td>0</td>\n",
       "      <td>0</td>\n",
       "      <td>0</td>\n",
       "      <td>0</td>\n",
       "      <td>0</td>\n",
       "      <td>0</td>\n",
       "      <td>0</td>\n",
       "      <td>...</td>\n",
       "      <td>0</td>\n",
       "      <td>0</td>\n",
       "      <td>0</td>\n",
       "      <td>0</td>\n",
       "      <td>1</td>\n",
       "      <td>0</td>\n",
       "      <td>1</td>\n",
       "      <td>0</td>\n",
       "      <td>72.790200</td>\n",
       "      <td>0</td>\n",
       "    </tr>\n",
       "    <tr>\n",
       "      <th>1</th>\n",
       "      <td>1</td>\n",
       "      <td>1</td>\n",
       "      <td>0</td>\n",
       "      <td>0</td>\n",
       "      <td>0</td>\n",
       "      <td>1</td>\n",
       "      <td>0</td>\n",
       "      <td>0</td>\n",
       "      <td>0</td>\n",
       "      <td>0</td>\n",
       "      <td>...</td>\n",
       "      <td>0</td>\n",
       "      <td>0</td>\n",
       "      <td>1</td>\n",
       "      <td>0</td>\n",
       "      <td>0</td>\n",
       "      <td>1</td>\n",
       "      <td>0</td>\n",
       "      <td>0</td>\n",
       "      <td>3424.850562</td>\n",
       "      <td>0</td>\n",
       "    </tr>\n",
       "    <tr>\n",
       "      <th>2</th>\n",
       "      <td>0</td>\n",
       "      <td>0</td>\n",
       "      <td>0</td>\n",
       "      <td>0</td>\n",
       "      <td>1</td>\n",
       "      <td>1</td>\n",
       "      <td>0</td>\n",
       "      <td>1</td>\n",
       "      <td>0</td>\n",
       "      <td>0</td>\n",
       "      <td>...</td>\n",
       "      <td>0</td>\n",
       "      <td>0</td>\n",
       "      <td>1</td>\n",
       "      <td>0</td>\n",
       "      <td>0</td>\n",
       "      <td>1</td>\n",
       "      <td>0</td>\n",
       "      <td>0</td>\n",
       "      <td>7274.238376</td>\n",
       "      <td>2</td>\n",
       "    </tr>\n",
       "    <tr>\n",
       "      <th>3</th>\n",
       "      <td>0</td>\n",
       "      <td>0</td>\n",
       "      <td>0</td>\n",
       "      <td>0</td>\n",
       "      <td>0</td>\n",
       "      <td>0</td>\n",
       "      <td>0</td>\n",
       "      <td>1</td>\n",
       "      <td>0</td>\n",
       "      <td>0</td>\n",
       "      <td>...</td>\n",
       "      <td>0</td>\n",
       "      <td>0</td>\n",
       "      <td>0</td>\n",
       "      <td>0</td>\n",
       "      <td>0</td>\n",
       "      <td>0</td>\n",
       "      <td>0</td>\n",
       "      <td>0</td>\n",
       "      <td>3873.264032</td>\n",
       "      <td>0</td>\n",
       "    </tr>\n",
       "    <tr>\n",
       "      <th>4</th>\n",
       "      <td>0</td>\n",
       "      <td>0</td>\n",
       "      <td>0</td>\n",
       "      <td>0</td>\n",
       "      <td>1</td>\n",
       "      <td>1</td>\n",
       "      <td>0</td>\n",
       "      <td>1</td>\n",
       "      <td>0</td>\n",
       "      <td>0</td>\n",
       "      <td>...</td>\n",
       "      <td>0</td>\n",
       "      <td>0</td>\n",
       "      <td>0</td>\n",
       "      <td>0</td>\n",
       "      <td>1</td>\n",
       "      <td>1</td>\n",
       "      <td>0</td>\n",
       "      <td>0</td>\n",
       "      <td>7298.528576</td>\n",
       "      <td>1</td>\n",
       "    </tr>\n",
       "    <tr>\n",
       "      <th>...</th>\n",
       "      <td>...</td>\n",
       "      <td>...</td>\n",
       "      <td>...</td>\n",
       "      <td>...</td>\n",
       "      <td>...</td>\n",
       "      <td>...</td>\n",
       "      <td>...</td>\n",
       "      <td>...</td>\n",
       "      <td>...</td>\n",
       "      <td>...</td>\n",
       "      <td>...</td>\n",
       "      <td>...</td>\n",
       "      <td>...</td>\n",
       "      <td>...</td>\n",
       "      <td>...</td>\n",
       "      <td>...</td>\n",
       "      <td>...</td>\n",
       "      <td>...</td>\n",
       "      <td>...</td>\n",
       "      <td>...</td>\n",
       "      <td>...</td>\n",
       "    </tr>\n",
       "    <tr>\n",
       "      <th>9995</th>\n",
       "      <td>0</td>\n",
       "      <td>0</td>\n",
       "      <td>0</td>\n",
       "      <td>0</td>\n",
       "      <td>1</td>\n",
       "      <td>0</td>\n",
       "      <td>0</td>\n",
       "      <td>0</td>\n",
       "      <td>0</td>\n",
       "      <td>0</td>\n",
       "      <td>...</td>\n",
       "      <td>0</td>\n",
       "      <td>0</td>\n",
       "      <td>0</td>\n",
       "      <td>1</td>\n",
       "      <td>0</td>\n",
       "      <td>1</td>\n",
       "      <td>0</td>\n",
       "      <td>0</td>\n",
       "      <td>65.088375</td>\n",
       "      <td>1</td>\n",
       "    </tr>\n",
       "    <tr>\n",
       "      <th>9996</th>\n",
       "      <td>0</td>\n",
       "      <td>0</td>\n",
       "      <td>0</td>\n",
       "      <td>0</td>\n",
       "      <td>0</td>\n",
       "      <td>0</td>\n",
       "      <td>0</td>\n",
       "      <td>0</td>\n",
       "      <td>0</td>\n",
       "      <td>0</td>\n",
       "      <td>...</td>\n",
       "      <td>0</td>\n",
       "      <td>0</td>\n",
       "      <td>0</td>\n",
       "      <td>0</td>\n",
       "      <td>0</td>\n",
       "      <td>1</td>\n",
       "      <td>0</td>\n",
       "      <td>0</td>\n",
       "      <td>62.000935</td>\n",
       "      <td>0</td>\n",
       "    </tr>\n",
       "    <tr>\n",
       "      <th>9997</th>\n",
       "      <td>0</td>\n",
       "      <td>0</td>\n",
       "      <td>0</td>\n",
       "      <td>0</td>\n",
       "      <td>0</td>\n",
       "      <td>0</td>\n",
       "      <td>0</td>\n",
       "      <td>0</td>\n",
       "      <td>0</td>\n",
       "      <td>0</td>\n",
       "      <td>...</td>\n",
       "      <td>0</td>\n",
       "      <td>0</td>\n",
       "      <td>0</td>\n",
       "      <td>0</td>\n",
       "      <td>0</td>\n",
       "      <td>0</td>\n",
       "      <td>1</td>\n",
       "      <td>0</td>\n",
       "      <td>5.490000</td>\n",
       "      <td>0</td>\n",
       "    </tr>\n",
       "    <tr>\n",
       "      <th>9998</th>\n",
       "      <td>0</td>\n",
       "      <td>0</td>\n",
       "      <td>0</td>\n",
       "      <td>0</td>\n",
       "      <td>0</td>\n",
       "      <td>1</td>\n",
       "      <td>0</td>\n",
       "      <td>0</td>\n",
       "      <td>0</td>\n",
       "      <td>0</td>\n",
       "      <td>...</td>\n",
       "      <td>0</td>\n",
       "      <td>0</td>\n",
       "      <td>0</td>\n",
       "      <td>0</td>\n",
       "      <td>1</td>\n",
       "      <td>1</td>\n",
       "      <td>0</td>\n",
       "      <td>1</td>\n",
       "      <td>3451.920762</td>\n",
       "      <td>0</td>\n",
       "    </tr>\n",
       "    <tr>\n",
       "      <th>9999</th>\n",
       "      <td>0</td>\n",
       "      <td>0</td>\n",
       "      <td>0</td>\n",
       "      <td>0</td>\n",
       "      <td>0</td>\n",
       "      <td>0</td>\n",
       "      <td>0</td>\n",
       "      <td>0</td>\n",
       "      <td>0</td>\n",
       "      <td>0</td>\n",
       "      <td>...</td>\n",
       "      <td>0</td>\n",
       "      <td>0</td>\n",
       "      <td>0</td>\n",
       "      <td>0</td>\n",
       "      <td>0</td>\n",
       "      <td>0</td>\n",
       "      <td>0</td>\n",
       "      <td>0</td>\n",
       "      <td>0.000000</td>\n",
       "      <td>0</td>\n",
       "    </tr>\n",
       "  </tbody>\n",
       "</table>\n",
       "<p>10000 rows × 42 columns</p>\n",
       "</div>"
      ],
      "text/plain": [
       "n     rs7313581  rs79926713  rs73239797  rs79846291  rs72842919  rs11055612  \\\n",
       "0             0           0           0           0           0           0   \n",
       "1             1           1           0           0           0           1   \n",
       "2             0           0           0           0           1           1   \n",
       "3             0           0           0           0           0           0   \n",
       "4             0           0           0           0           1           1   \n",
       "...         ...         ...         ...         ...         ...         ...   \n",
       "9995          0           0           0           0           1           0   \n",
       "9996          0           0           0           0           0           0   \n",
       "9997          0           0           0           0           0           0   \n",
       "9998          0           0           0           0           0           1   \n",
       "9999          0           0           0           0           0           0   \n",
       "\n",
       "n     rs7155434  rs2456930  rs62256378  rs11218343  ...  rs143332484  \\\n",
       "0             0          0           0           0  ...            0   \n",
       "1             0          0           0           0  ...            0   \n",
       "2             0          1           0           0  ...            0   \n",
       "3             0          1           0           0  ...            0   \n",
       "4             0          1           0           0  ...            0   \n",
       "...         ...        ...         ...         ...  ...          ...   \n",
       "9995          0          0           0           0  ...            0   \n",
       "9996          0          0           0           0  ...            0   \n",
       "9997          0          0           0           0  ...            0   \n",
       "9998          0          0           0           0  ...            0   \n",
       "9999          0          0           0           0  ...            0   \n",
       "\n",
       "n     rs123187  rs10792832  rs10948363  rs157580  rs6859  rs9271192  \\\n",
       "0            0           0           0         1       0          1   \n",
       "1            0           1           0         0       1          0   \n",
       "2            0           1           0         0       1          0   \n",
       "3            0           0           0         0       0          0   \n",
       "4            0           0           0         1       1          0   \n",
       "...        ...         ...         ...       ...     ...        ...   \n",
       "9995         0           0           1         0       1          0   \n",
       "9996         0           0           0         0       1          0   \n",
       "9997         0           0           0         0       0          1   \n",
       "9998         0           0           0         1       1          0   \n",
       "9999         0           0           0         0       0          0   \n",
       "\n",
       "n     rs6931277          prs  label  \n",
       "0             0    72.790200      0  \n",
       "1             0  3424.850562      0  \n",
       "2             0  7274.238376      2  \n",
       "3             0  3873.264032      0  \n",
       "4             0  7298.528576      1  \n",
       "...         ...          ...    ...  \n",
       "9995          0    65.088375      1  \n",
       "9996          0    62.000935      0  \n",
       "9997          0     5.490000      0  \n",
       "9998          1  3451.920762      0  \n",
       "9999          0     0.000000      0  \n",
       "\n",
       "[10000 rows x 42 columns]"
      ]
     },
     "execution_count": 81,
     "metadata": {},
     "output_type": "execute_result"
    }
   ],
   "source": [
    "simulated_df"
   ]
  },
  {
   "cell_type": "markdown",
   "metadata": {},
   "source": [
    "## model training"
   ]
  },
  {
   "cell_type": "code",
   "execution_count": 82,
   "metadata": {},
   "outputs": [],
   "source": [
    "df = pd.read_csv('data/alzheimer_data.csv')\n",
    "\n",
    "X = df.drop(['label','Unnamed: 0','prs'], axis=1)\n",
    "y = df['label']\n",
    "X_train, X_test, y_train, y_test = train_test_split(X, y, test_size=0.2, random_state=1)"
   ]
  },
  {
   "cell_type": "code",
   "execution_count": 83,
   "metadata": {},
   "outputs": [
    {
     "name": "stdout",
     "output_type": "stream",
     "text": [
      "(8000, 40)\n",
      "(2000, 40)\n",
      "(8000,)\n",
      "(2000,)\n"
     ]
    }
   ],
   "source": [
    "print(X_train.shape)\n",
    "print(X_test.shape)\n",
    "print(y_train.shape)\n",
    "print(y_test.shape)"
   ]
  },
  {
   "cell_type": "code",
   "execution_count": 84,
   "metadata": {},
   "outputs": [],
   "source": [
    "def plot_multiclass_roc(clf, X_test, y_test, n_classes, figsize=(17, 6)):\n",
    "    y_score = clf.predict_proba(X_test)\n",
    "\n",
    "    # structures\n",
    "    fpr = dict()\n",
    "    tpr = dict()\n",
    "    roc_auc = dict()\n",
    "\n",
    "    # calculate dummies once\n",
    "    y_test_dummies = pd.get_dummies(y_test, drop_first=False).values\n",
    "    for i in range(n_classes):\n",
    "        fpr[i], tpr[i], _ = roc_curve(y_test_dummies[:, i], y_score[:, i])\n",
    "        roc_auc[i] = metrics.auc(fpr[i], tpr[i])\n",
    "\n",
    "    # roc for each class\n",
    "    fig, ax = plt.subplots(figsize=figsize)\n",
    "    ax.plot([0, 1], [0, 1], 'k--')\n",
    "    ax.set_xlim([0.0, 1.0])\n",
    "    ax.set_ylim([0.0, 1.05])\n",
    "    ax.set_xlabel('False Positive Rate')\n",
    "    ax.set_ylabel('True Positive Rate')\n",
    "    ax.set_title('ROC curve')\n",
    "    labels = ['Low', 'Medium', 'High']\n",
    "    for i in range(n_classes):\n",
    "        ax.plot(fpr[i], tpr[i], label='ROC curve (area = %0.2f) for %s Risk' % (roc_auc[i], labels[i]))\n",
    "    ax.legend(loc=\"best\")\n",
    "    ax.grid(alpha=.4)\n",
    "    sns.despine()\n",
    "    plt.show()\n"
   ]
  },
  {
   "cell_type": "code",
   "execution_count": 85,
   "metadata": {},
   "outputs": [],
   "source": [
    "from hyperopt import hp\n",
    "from hyperopt import Trials\n",
    "from hyperopt import fmin, tpe\n",
    "from hyperopt import STATUS_OK"
   ]
  },
  {
   "cell_type": "code",
   "execution_count": 86,
   "metadata": {},
   "outputs": [],
   "source": [
    "space={'max_depth': hp.quniform(\"max_depth\", 3, 10, 1),\n",
    "        'gamma': hp.uniform ('gamma', 1,3),\n",
    "        'learning_rate' : hp.quniform('learning_rate', 0.01,1,0.05),\n",
    "        'colsample_bytree' : hp.uniform('colsample_bytree', 0.5,1),\n",
    "        'min_child_weight' : hp.quniform('min_child_weight', 0, 5, 1),\n",
    "        'n_estimators': 100,\n",
    "        'seed': 0\n",
    "    }"
   ]
  },
  {
   "cell_type": "code",
   "execution_count": 87,
   "metadata": {},
   "outputs": [],
   "source": [
    "def objective(space):\n",
    "    clf=XGBClassifier(\n",
    "                    n_estimators =space['n_estimators'], max_depth = int(space['max_depth']), gamma = space['gamma'],\n",
    "                    learning_rate = int(space['learning_rate']),min_child_weight=int(space['min_child_weight']),\n",
    "                    colsample_bytree=int(space['colsample_bytree']))\n",
    "    \n",
    "    evaluation = [( X_train, y_train), ( X_test, y_test)]\n",
    "    \n",
    "    clf.fit(X_train, y_train,\n",
    "            eval_set=evaluation, eval_metric=\"auc\",\n",
    "            early_stopping_rounds=10,verbose=False)\n",
    "    \n",
    "\n",
    "    pred = clf.predict(X_test)\n",
    "    score = f1_score(y_test, pred, average='micro')\n",
    "    return {'loss': -score, 'status': STATUS_OK }\n"
   ]
  },
  {
   "cell_type": "code",
   "execution_count": 88,
   "metadata": {},
   "outputs": [
    {
     "name": "stdout",
     "output_type": "stream",
     "text": [
      "100%|██████████| 100/100 [00:07<00:00, 13.42it/s, best loss: -0.7435]           \n"
     ]
    }
   ],
   "source": [
    "trials = Trials()\n",
    "\n",
    "best_hyperparams = fmin(fn = objective,\n",
    "                        space = space,\n",
    "                        algo = tpe.suggest,\n",
    "                        max_evals = 100,\n",
    "                        trials = trials)"
   ]
  },
  {
   "cell_type": "code",
   "execution_count": 89,
   "metadata": {},
   "outputs": [
    {
     "name": "stdout",
     "output_type": "stream",
     "text": [
      "The best hyperparameters are :  \n",
      "\n",
      "{'colsample_bytree': 0.5321098996299787, 'gamma': 2.9903948906526727, 'learning_rate': 1.0, 'max_depth': 4.0, 'min_child_weight': 1.0}\n"
     ]
    }
   ],
   "source": [
    "print(\"The best hyperparameters are : \",\"\\n\")\n",
    "print(best_hyperparams)"
   ]
  },
  {
   "cell_type": "code",
   "execution_count": 90,
   "metadata": {},
   "outputs": [
    {
     "name": "stdout",
     "output_type": "stream",
     "text": [
      "[16:21:12] WARNING: /Users/travis/build/dmlc/xgboost/src/learner.cc:1095: Starting in XGBoost 1.3.0, the default evaluation metric used with the objective 'multi:softprob' was changed from 'merror' to 'mlogloss'. Explicitly set eval_metric if you'd like to restore the old behavior.\n"
     ]
    },
    {
     "data": {
      "text/plain": [
       "XGBClassifier(base_score=0.5, booster='gbtree', colsample_bylevel=1,\n",
       "              colsample_bynode=1, colsample_bytree=0.5321098996299787,\n",
       "              gamma=2.9903948906526727, gpu_id=-1, importance_type='gain',\n",
       "              interaction_constraints='', learning_rate=1.0, max_delta_step=0,\n",
       "              max_depth=4, min_child_weight=1.0, missing=nan,\n",
       "              monotone_constraints='()', n_estimators=100, n_jobs=12,\n",
       "              num_parallel_tree=1, objective='multi:softprob', random_state=0,\n",
       "              reg_alpha=0, reg_lambda=1, scale_pos_weight=None, subsample=1,\n",
       "              tree_method='exact', validate_parameters=1, verbosity=None)"
      ]
     },
     "execution_count": 90,
     "metadata": {},
     "output_type": "execute_result"
    }
   ],
   "source": [
    "xgb_opt = XGBClassifier(n_estimators = 100,\n",
    "                            max_depth = int(best_hyperparams['max_depth']),\n",
    "                            learning_rate = best_hyperparams['learning_rate'],\n",
    "                            gamma = best_hyperparams['gamma'],\n",
    "                            min_child_weight = best_hyperparams['min_child_weight'],\n",
    "                            colsample_bytree = best_hyperparams['colsample_bytree']\n",
    "                            )\n",
    "xgb_opt.fit(X_train, y_train)"
   ]
  },
  {
   "cell_type": "code",
   "execution_count": 91,
   "metadata": {},
   "outputs": [
    {
     "name": "stdout",
     "output_type": "stream",
     "text": [
      "              precision    recall  f1-score   support\n",
      "\n",
      "    Low Risk       0.84      0.87      0.85      1059\n",
      " Medium Risk       0.61      0.72      0.66       713\n",
      "   High Risk       0.44      0.13      0.20       228\n",
      "\n",
      "    accuracy                           0.73      2000\n",
      "   macro avg       0.63      0.57      0.57      2000\n",
      "weighted avg       0.71      0.73      0.71      2000\n",
      "\n",
      "auc score is:  0.8631404635688714\n"
     ]
    },
    {
     "data": {
      "image/png": "[encoded data removed]",
      "text/plain": [
       "<Figure size 1152x720 with 1 Axes>"
      ]
     },
     "metadata": {
      "needs_background": "light"
     },
     "output_type": "display_data"
    }
   ],
   "source": [
    "y_pred_xgb = xgb_opt.predict(X_test)\n",
    "print(classification_report(y_test, y_pred_xgb, target_names=['Low Risk', 'Medium Risk','High Risk']))\n",
    "auc_val = roc_auc_score(y_test, xgb_opt.predict_proba(X_test), multi_class='ovr')\n",
    "print(\"auc score is: \", auc_val)\n",
    "plot_multiclass_roc(xgb_opt, X_test, y_test, n_classes=3, figsize=(16, 10))"
   ]
  },
  {
   "cell_type": "code",
   "execution_count": 92,
   "metadata": {},
   "outputs": [
    {
     "name": "stdout",
     "output_type": "stream",
     "text": [
      "[16:21:13] WARNING: /Users/travis/build/dmlc/xgboost/src/learner.cc:1095: Starting in XGBoost 1.3.0, the default evaluation metric used with the objective 'multi:softprob' was changed from 'merror' to 'mlogloss'. Explicitly set eval_metric if you'd like to restore the old behavior.\n"
     ]
    },
    {
     "data": {
      "text/plain": [
       "XGBClassifier(base_score=0.5, booster='gbtree', colsample_bylevel=1,\n",
       "              colsample_bynode=1, colsample_bytree=1, gamma=0, gpu_id=-1,\n",
       "              importance_type='gain', interaction_constraints='',\n",
       "              learning_rate=0.15, max_delta_step=0, max_depth=6,\n",
       "              min_child_weight=1, missing=nan, monotone_constraints='()',\n",
       "              n_estimators=100, n_jobs=12, num_parallel_tree=1,\n",
       "              objective='multi:softprob', random_state=0, reg_alpha=0.5,\n",
       "              reg_lambda=1, scale_pos_weight=None, subsample=1,\n",
       "              tree_method='exact', validate_parameters=1, verbosity=None)"
      ]
     },
     "execution_count": 92,
     "metadata": {},
     "output_type": "execute_result"
    }
   ],
   "source": [
    "xgb_opt = XGBClassifier(learning_rate=0.15, reg_alpha=0.5)\n",
    "xgb_opt.fit(X_train, y_train)"
   ]
  },
  {
   "cell_type": "code",
   "execution_count": 178,
   "metadata": {},
   "outputs": [
    {
     "name": "stdout",
     "output_type": "stream",
     "text": [
      "              precision    recall  f1-score   support\n",
      "\n",
      "    Low Risk       0.84      0.87      0.85      1093\n",
      " Medium Risk       0.62      0.71      0.66       712\n",
      "   High Risk       0.36      0.11      0.17       195\n",
      "\n",
      "    accuracy                           0.74      2000\n",
      "   macro avg       0.61      0.56      0.56      2000\n",
      "weighted avg       0.72      0.74      0.72      2000\n",
      "\n",
      "auc score is:  0.8614503832544788\n"
     ]
    },
    {
     "data": {
      "image/png": "[encoded data removed]",
      "text/plain": [
       "<Figure size 1152x720 with 1 Axes>"
      ]
     },
     "metadata": {
      "needs_background": "light"
     },
     "output_type": "display_data"
    }
   ],
   "source": [
    "y_pred_xgb = xgb_opt.predict(X_test)\n",
    "print(classification_report(y_test, y_pred_xgb, target_names=['Low Risk', 'Medium Risk', 'High Risk']))\n",
    "auc_val = roc_auc_score(y_test, xgb_opt.predict_proba(X_test), multi_class='ovr')\n",
    "print(\"auc score is: \", auc_val)\n",
    "plot_multiclass_roc(xgb_opt, X_test, y_test, n_classes=3, figsize=(16, 10))"
   ]
  },
  {
   "cell_type": "code",
   "execution_count": 120,
   "metadata": {},
   "outputs": [
    {
     "data": {
      "text/plain": [
       "['alzheimer-model-60-above.pkl']"
      ]
     },
     "execution_count": 120,
     "metadata": {},
     "output_type": "execute_result"
    }
   ],
   "source": [
    "# from sklearn.externals import joblib\n",
    "import joblib\n",
    "  \n",
    "# Save the model as a pickle in a file\n",
    "joblib.dump(xgb_opt, 'alzheimer-model-60-above.pkl')"
   ]
  },
  {
   "cell_type": "code",
   "execution_count": 151,
   "metadata": {},
   "outputs": [
    {
     "data": {
      "text/plain": [
       "['alzheimer-model-60-below.pkl']"
      ]
     },
     "execution_count": 151,
     "metadata": {},
     "output_type": "execute_result"
    }
   ],
   "source": [
    "joblib.dump(xgb_opt, 'alzheimer-model-60-below.pkl')"
   ]
  },
  {
   "cell_type": "code",
   "execution_count": null,
   "metadata": {},
   "outputs": [],
   "source": []
  }
 ],
 "metadata": {
  "kernelspec": {
   "display_name": "Python 3",
   "language": "python",
   "name": "python3"
  },
  "language_info": {
   "codemirror_mode": {
    "name": "ipython",
    "version": 3
   },
   "file_extension": ".py",
   "mimetype": "text/x-python",
   "name": "python",
   "nbconvert_exporter": "python",
   "pygments_lexer": "ipython3",
   "version": "3.7.6"
  }
 },
 "nbformat": 4,
 "nbformat_minor": 4
}

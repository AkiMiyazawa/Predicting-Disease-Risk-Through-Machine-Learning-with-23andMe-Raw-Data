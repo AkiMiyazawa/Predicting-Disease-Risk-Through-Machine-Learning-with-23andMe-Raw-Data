{
 "cells": [
  {
   "cell_type": "markdown",
   "metadata": {},
   "source": [
    "# Data Processing and Analysis\n",
    "In this notebook, I will be preprocessing data obtain from https://www.ebi.ac.uk/gwas/efotraits/EFO_0000249 and https://www.ebi.ac.uk/gwas/efotraits/EFO_1001870 and simulating data that can be used to train our machine learning models for Alzheimer's prediction. "
   ]
  },
  {
   "cell_type": "code",
   "execution_count": 2,
   "metadata": {},
   "outputs": [],
   "source": [
    "import pandas as pd\n",
    "import numpy as np\n",
    "import matplotlib.pyplot as plt\n",
    "import seaborn as sns"
   ]
  },
  {
   "cell_type": "markdown",
   "metadata": {},
   "source": [
    "## Preprocess data from https://www.ebi.ac.uk/gwas/efotraits/EFO_0000249 and https://www.ebi.ac.uk/gwas/efotraits/EFO_1001870 (Alzheimer's disease and late-onset Alzheimers disease)"
   ]
  },
  {
   "cell_type": "code",
   "execution_count": 4,
   "metadata": {},
   "outputs": [],
   "source": [
    "# load datasets\n",
    "df = pd.read_csv('data/efotraits_EFO_0000249-associations.csv')\n",
    "\n",
    "# process dataset \n",
    "cols_to_keep = ['Variant and risk allele', 'RAF', 'Beta']\n",
    "df = df.drop(df.columns.difference(cols_to_keep), axis=1)\n",
    "df = df.replace('NR',np.nan)\n",
    "df = df.replace(\"'-\",np.nan)\n",
    "df = df.dropna()\n",
    "\n",
    "df = df.rename(columns = {'Variant and risk allele':'id','RAF':'raf', 'Beta':'beta'})\n",
    "\n",
    "df['id'] = df['id'].str.split(\"-\", 1, expand=True)\n",
    "df['beta'] = df['beta'].str.split(\" \", 1, expand=True)\n",
    "\n",
    "df['raf'] = df['raf'].astype(float)\n",
    "df['beta'] = df['beta'].astype(float)\n",
    "\n",
    "# save dataframe to csv\n",
    "df.to_csv('data/EFO_0000249.csv')"
   ]
  },
  {
   "cell_type": "code",
   "execution_count": 5,
   "metadata": {},
   "outputs": [],
   "source": [
    "# load datasets\n",
    "df = pd.read_csv('data/efotraits_EFO_1001870-associations.csv')\n",
    "\n",
    "# process dataset \n",
    "cols_to_keep = ['Variant and risk allele', 'RAF', 'Beta']\n",
    "df = df.drop(df.columns.difference(cols_to_keep), axis=1)\n",
    "df = df.replace('NR',np.nan)\n",
    "df = df.replace(\"'-\",np.nan)\n",
    "df = df.dropna()\n",
    "\n",
    "df = df.rename(columns = {'Variant and risk allele':'id','RAF':'raf', 'Beta':'beta'})\n",
    "\n",
    "df['id'] = df['id'].str.split(\"-\", 1, expand=True)\n",
    "df['beta'] = df['beta'].str.split(\" \", 1, expand=True)\n",
    "\n",
    "df['raf'] = df['raf'].astype(float)\n",
    "df['beta'] = df['beta'].astype(float)\n",
    "\n",
    "# save dataframe to csv\n",
    "df.to_csv('data/EFO_1001870.csv')"
   ]
  },
  {
   "cell_type": "markdown",
   "metadata": {},
   "source": [
    "## Simulate data- unbiased\n",
    "I will use the GWAS in EFO_0000249.csv to simulate individual SNP data with associated Alzheimers disease label. I will use the SWAS to determine relevant SNPs to Alzheimers and spread them across a population based on their minor allele frequencies. I will simulate 10,000 individuals."
   ]
  },
  {
   "cell_type": "code",
   "execution_count": 6,
   "metadata": {},
   "outputs": [],
   "source": [
    "df = pd.read_csv('data/EFO_1001870.csv')\n",
    "cols_to_keep = ['id', 'raf', 'beta']\n",
    "df = df.drop(df.columns.difference(cols_to_keep), axis=1)\n",
    "df = df.drop_duplicates(subset=['id'])"
   ]
  },
  {
   "cell_type": "code",
   "execution_count": 7,
   "metadata": {},
   "outputs": [],
   "source": [
    "# simulate 10,000 individuals\n",
    "individuals = []\n",
    "for _ in range(10000):\n",
    "    snps = (df['raf'].apply(lambda x: np.random.choice(a=[0,1], p=[1-x, x])))\n",
    "    individuals.append(snps.values)  "
   ]
  },
  {
   "cell_type": "code",
   "execution_count": 8,
   "metadata": {},
   "outputs": [],
   "source": [
    "simulated_df = pd.DataFrame(individuals, columns=df['id'])\n",
    "simulated_df.columns.name = 'n'"
   ]
  },
  {
   "cell_type": "code",
   "execution_count": 9,
   "metadata": {},
   "outputs": [],
   "source": [
    "# add polygenic risk score for each individual\n",
    "beta_dict = df.set_index('id')['beta'].to_dict()\n",
    "beta_values = np.array([beta_dict.get(x) for x in simulated_df.columns])\n",
    "prs = simulated_df.apply(lambda x: (x*beta_values).sum(), axis=1)\n",
    "simulated_df['prs'] = prs"
   ]
  },
  {
   "cell_type": "code",
   "execution_count": 10,
   "metadata": {},
   "outputs": [
    {
     "data": {
      "text/plain": [
       "Text(0, 0.5, 'Frequency')"
      ]
     },
     "execution_count": 10,
     "metadata": {},
     "output_type": "execute_result"
    },
    {
     "data": {
      "image/png": "[encoded data removed]",
      "text/plain": [
       "<Figure size 1280x800 with 1 Axes>"
      ]
     },
     "metadata": {
      "needs_background": "light"
     },
     "output_type": "display_data"
    }
   ],
   "source": [
    "plt.figure(figsize=(16, 10), dpi=80)\n",
    "plt.hist(simulated_df['prs'], 40)\n",
    "plt.title('Polygenic Risk Scores for Unbiased Population')\n",
    "plt.xlabel('Polygenic Risk Score')\n",
    "plt.ylabel('Frequency')"
   ]
  },
  {
   "cell_type": "markdown",
   "metadata": {},
   "source": [
    "# Simulate data- biased\n",
    "I want to create a simulated dataset with low risk, medium risk, and high risk individuals, so I will change to probabilities of having some SNPS higher. This method will create a better dataset because it is more realistic. "
   ]
  },
  {
   "cell_type": "code",
   "execution_count": 3,
   "metadata": {},
   "outputs": [],
   "source": [
    "df = pd.read_csv('data/EFO_1001870.csv')\n",
    "cols_to_keep = ['id', 'raf', 'beta']\n",
    "df = df.drop(df.columns.difference(cols_to_keep), axis=1)\n",
    "df = df.drop_duplicates(subset=['id'])"
   ]
  },
  {
   "cell_type": "code",
   "execution_count": 4,
   "metadata": {},
   "outputs": [],
   "source": [
    "# risk labels, 0=low, 1=medium, 2=high\n",
    "risk_labels = [0, 1, 2]\n",
    "\n",
    "# proportion/probability of each risk (the lower the risk the more common)\n",
    "risk_prob = [0.5, 0.35, 0.15]\n",
    "\n",
    "# varying probabilities of having SNPs\n",
    "low_risk_bias = np.arange(0.1, 0.5, 0.05)\n",
    "medium_risk_bias = np.arange(0.5, 0.75, 0.05)\n",
    "high_risk_bias = np.arange(0.75, 1, 0.05)\n",
    "risk_bias = [low_risk_bias, medium_risk_bias, high_risk_bias]"
   ]
  },
  {
   "cell_type": "code",
   "execution_count": 5,
   "metadata": {},
   "outputs": [],
   "source": [
    "# simulate 10,000 individuals\n",
    "individuals = []\n",
    "labels = []\n",
    "for _ in range(10000):\n",
    "    label = np.random.choice(a=risk_labels, p=risk_prob)\n",
    "    bias = np.random.choice(risk_bias[label])\n",
    "    snps = (df['raf'].apply(lambda x: np.random.choice(a=[0,1], p=[1-(x*bias), x*bias])))\n",
    "    individuals.append(snps.values)  \n",
    "    labels.append(label)"
   ]
  },
  {
   "cell_type": "code",
   "execution_count": 6,
   "metadata": {},
   "outputs": [],
   "source": [
    "simulated_df = pd.DataFrame(individuals, columns=df['id'])\n",
    "simulated_df.columns.name = 'n'"
   ]
  },
  {
   "cell_type": "code",
   "execution_count": 7,
   "metadata": {},
   "outputs": [],
   "source": [
    "# add polygenic risk score for each individual\n",
    "beta_dict = df.set_index('id')['beta'].to_dict()\n",
    "beta_values = np.array([beta_dict.get(x) for x in simulated_df.columns])\n",
    "prs = simulated_df.apply(lambda x: (x*beta_values).sum(), axis=1)\n",
    "simulated_df['prs'] = prs\n",
    "simulated_df['label'] = labels"
   ]
  },
  {
   "cell_type": "code",
   "execution_count": 8,
   "metadata": {},
   "outputs": [
    {
     "data": {
      "text/plain": [
       "label\n",
       "0     5.670989\n",
       "1    12.487897\n",
       "2    17.666451\n",
       "Name: prs, dtype: float64"
      ]
     },
     "execution_count": 8,
     "metadata": {},
     "output_type": "execute_result"
    }
   ],
   "source": [
    "simulated_df\n",
    "simulated_df.groupby('label')['prs'].mean()"
   ]
  },
  {
   "cell_type": "code",
   "execution_count": 9,
   "metadata": {},
   "outputs": [
    {
     "data": {
      "text/plain": [
       "Text(0, 0.5, 'Frequency')"
      ]
     },
     "execution_count": 9,
     "metadata": {},
     "output_type": "execute_result"
    },
    {
     "data": {
      "image/png": "[encoded data removed]",
      "text/plain": [
       "<Figure size 1280x800 with 1 Axes>"
      ]
     },
     "metadata": {
      "needs_background": "light"
     },
     "output_type": "display_data"
    }
   ],
   "source": [
    "plt.figure(figsize=(16, 10), dpi=80)\n",
    "plt.hist(simulated_df['prs'], 40)\n",
    "plt.title(\"Polygenic Risk Scores for Biased Population (Alzheimer's disease)\")\n",
    "plt.xlabel('Polygenic Risk Score')\n",
    "plt.ylabel('Frequency')"
   ]
  },
  {
   "cell_type": "code",
   "execution_count": 10,
   "metadata": {},
   "outputs": [
    {
     "data": {
      "text/plain": [
       "<matplotlib.legend.Legend at 0x7fc4c74a7850>"
      ]
     },
     "execution_count": 10,
     "metadata": {},
     "output_type": "execute_result"
    },
    {
     "data": {
      "image/png": "[encoded data removed]",
      "text/plain": [
       "<Figure size 1280x800 with 1 Axes>"
      ]
     },
     "metadata": {
      "needs_background": "light"
     },
     "output_type": "display_data"
    }
   ],
   "source": [
    "# check distribution of prs\n",
    "plt.figure(figsize=(16, 10), dpi=80)\n",
    "sns.kdeplot(simulated_df[simulated_df['label'] == 0]['prs'], label=\"Low Risk\")\n",
    "sns.kdeplot(simulated_df[simulated_df['label'] == 1]['prs'], label=\"Medium Risk\")\n",
    "sns.kdeplot(simulated_df[simulated_df['label'] == 2]['prs'], label=\"High Risk\")\n",
    "plt.title(\"Distribution of PRS (Alzheimer's disease)\")\n",
    "plt.xlabel('Polygenic Risk Score')\n",
    "plt.ylabel('Frequency')\n",
    "plt.legend()"
   ]
  },
  {
   "cell_type": "code",
   "execution_count": 19,
   "metadata": {},
   "outputs": [],
   "source": [
    "simulated_df.to_csv('simulated_data.csv')"
   ]
  },
  {
   "cell_type": "code",
   "execution_count": 20,
   "metadata": {},
   "outputs": [
    {
     "data": {
      "text/html": [
       "<div>\n",
       "<style scoped>\n",
       "    .dataframe tbody tr th:only-of-type {\n",
       "        vertical-align: middle;\n",
       "    }\n",
       "\n",
       "    .dataframe tbody tr th {\n",
       "        vertical-align: top;\n",
       "    }\n",
       "\n",
       "    .dataframe thead th {\n",
       "        text-align: right;\n",
       "    }\n",
       "</style>\n",
       "<table border=\"1\" class=\"dataframe\">\n",
       "  <thead>\n",
       "    <tr style=\"text-align: right;\">\n",
       "      <th>n</th>\n",
       "      <th>rs186542490</th>\n",
       "      <th>rs186076999</th>\n",
       "      <th>rs141521929</th>\n",
       "      <th>rs73865608</th>\n",
       "      <th>rs184614511</th>\n",
       "      <th>rs193129245</th>\n",
       "      <th>rs150061627</th>\n",
       "      <th>rs190457471</th>\n",
       "      <th>rs141387448</th>\n",
       "      <th>rs117760708</th>\n",
       "      <th>...</th>\n",
       "      <th>rs144998240</th>\n",
       "      <th>rs138543081</th>\n",
       "      <th>rs192013290</th>\n",
       "      <th>rs144077517</th>\n",
       "      <th>rs142835438</th>\n",
       "      <th>rs184695264</th>\n",
       "      <th>rs921390</th>\n",
       "      <th>rs150291119</th>\n",
       "      <th>prs</th>\n",
       "      <th>label</th>\n",
       "    </tr>\n",
       "  </thead>\n",
       "  <tbody>\n",
       "    <tr>\n",
       "      <th>0</th>\n",
       "      <td>0</td>\n",
       "      <td>0</td>\n",
       "      <td>0</td>\n",
       "      <td>0</td>\n",
       "      <td>0</td>\n",
       "      <td>0</td>\n",
       "      <td>0</td>\n",
       "      <td>0</td>\n",
       "      <td>0</td>\n",
       "      <td>0</td>\n",
       "      <td>...</td>\n",
       "      <td>0</td>\n",
       "      <td>0</td>\n",
       "      <td>0</td>\n",
       "      <td>0</td>\n",
       "      <td>0</td>\n",
       "      <td>0</td>\n",
       "      <td>0</td>\n",
       "      <td>0</td>\n",
       "      <td>7.06</td>\n",
       "      <td>0</td>\n",
       "    </tr>\n",
       "    <tr>\n",
       "      <th>1</th>\n",
       "      <td>0</td>\n",
       "      <td>0</td>\n",
       "      <td>0</td>\n",
       "      <td>0</td>\n",
       "      <td>0</td>\n",
       "      <td>0</td>\n",
       "      <td>0</td>\n",
       "      <td>0</td>\n",
       "      <td>0</td>\n",
       "      <td>0</td>\n",
       "      <td>...</td>\n",
       "      <td>0</td>\n",
       "      <td>0</td>\n",
       "      <td>0</td>\n",
       "      <td>0</td>\n",
       "      <td>0</td>\n",
       "      <td>0</td>\n",
       "      <td>0</td>\n",
       "      <td>0</td>\n",
       "      <td>1.11</td>\n",
       "      <td>0</td>\n",
       "    </tr>\n",
       "    <tr>\n",
       "      <th>2</th>\n",
       "      <td>0</td>\n",
       "      <td>0</td>\n",
       "      <td>0</td>\n",
       "      <td>0</td>\n",
       "      <td>0</td>\n",
       "      <td>0</td>\n",
       "      <td>0</td>\n",
       "      <td>0</td>\n",
       "      <td>0</td>\n",
       "      <td>0</td>\n",
       "      <td>...</td>\n",
       "      <td>0</td>\n",
       "      <td>0</td>\n",
       "      <td>0</td>\n",
       "      <td>0</td>\n",
       "      <td>0</td>\n",
       "      <td>0</td>\n",
       "      <td>0</td>\n",
       "      <td>0</td>\n",
       "      <td>5.87</td>\n",
       "      <td>0</td>\n",
       "    </tr>\n",
       "    <tr>\n",
       "      <th>3</th>\n",
       "      <td>0</td>\n",
       "      <td>0</td>\n",
       "      <td>0</td>\n",
       "      <td>0</td>\n",
       "      <td>0</td>\n",
       "      <td>0</td>\n",
       "      <td>0</td>\n",
       "      <td>0</td>\n",
       "      <td>0</td>\n",
       "      <td>0</td>\n",
       "      <td>...</td>\n",
       "      <td>0</td>\n",
       "      <td>0</td>\n",
       "      <td>0</td>\n",
       "      <td>0</td>\n",
       "      <td>0</td>\n",
       "      <td>0</td>\n",
       "      <td>0</td>\n",
       "      <td>0</td>\n",
       "      <td>4.62</td>\n",
       "      <td>0</td>\n",
       "    </tr>\n",
       "    <tr>\n",
       "      <th>4</th>\n",
       "      <td>0</td>\n",
       "      <td>0</td>\n",
       "      <td>0</td>\n",
       "      <td>0</td>\n",
       "      <td>0</td>\n",
       "      <td>0</td>\n",
       "      <td>0</td>\n",
       "      <td>0</td>\n",
       "      <td>0</td>\n",
       "      <td>0</td>\n",
       "      <td>...</td>\n",
       "      <td>0</td>\n",
       "      <td>0</td>\n",
       "      <td>0</td>\n",
       "      <td>0</td>\n",
       "      <td>0</td>\n",
       "      <td>0</td>\n",
       "      <td>0</td>\n",
       "      <td>0</td>\n",
       "      <td>2.17</td>\n",
       "      <td>0</td>\n",
       "    </tr>\n",
       "    <tr>\n",
       "      <th>...</th>\n",
       "      <td>...</td>\n",
       "      <td>...</td>\n",
       "      <td>...</td>\n",
       "      <td>...</td>\n",
       "      <td>...</td>\n",
       "      <td>...</td>\n",
       "      <td>...</td>\n",
       "      <td>...</td>\n",
       "      <td>...</td>\n",
       "      <td>...</td>\n",
       "      <td>...</td>\n",
       "      <td>...</td>\n",
       "      <td>...</td>\n",
       "      <td>...</td>\n",
       "      <td>...</td>\n",
       "      <td>...</td>\n",
       "      <td>...</td>\n",
       "      <td>...</td>\n",
       "      <td>...</td>\n",
       "      <td>...</td>\n",
       "      <td>...</td>\n",
       "    </tr>\n",
       "    <tr>\n",
       "      <th>9995</th>\n",
       "      <td>0</td>\n",
       "      <td>0</td>\n",
       "      <td>0</td>\n",
       "      <td>0</td>\n",
       "      <td>0</td>\n",
       "      <td>0</td>\n",
       "      <td>0</td>\n",
       "      <td>0</td>\n",
       "      <td>0</td>\n",
       "      <td>0</td>\n",
       "      <td>...</td>\n",
       "      <td>0</td>\n",
       "      <td>0</td>\n",
       "      <td>0</td>\n",
       "      <td>0</td>\n",
       "      <td>0</td>\n",
       "      <td>0</td>\n",
       "      <td>0</td>\n",
       "      <td>0</td>\n",
       "      <td>3.18</td>\n",
       "      <td>0</td>\n",
       "    </tr>\n",
       "    <tr>\n",
       "      <th>9996</th>\n",
       "      <td>0</td>\n",
       "      <td>0</td>\n",
       "      <td>0</td>\n",
       "      <td>0</td>\n",
       "      <td>0</td>\n",
       "      <td>0</td>\n",
       "      <td>0</td>\n",
       "      <td>0</td>\n",
       "      <td>0</td>\n",
       "      <td>0</td>\n",
       "      <td>...</td>\n",
       "      <td>0</td>\n",
       "      <td>0</td>\n",
       "      <td>0</td>\n",
       "      <td>0</td>\n",
       "      <td>0</td>\n",
       "      <td>0</td>\n",
       "      <td>0</td>\n",
       "      <td>0</td>\n",
       "      <td>7.91</td>\n",
       "      <td>0</td>\n",
       "    </tr>\n",
       "    <tr>\n",
       "      <th>9997</th>\n",
       "      <td>0</td>\n",
       "      <td>0</td>\n",
       "      <td>0</td>\n",
       "      <td>0</td>\n",
       "      <td>0</td>\n",
       "      <td>0</td>\n",
       "      <td>0</td>\n",
       "      <td>0</td>\n",
       "      <td>0</td>\n",
       "      <td>0</td>\n",
       "      <td>...</td>\n",
       "      <td>0</td>\n",
       "      <td>0</td>\n",
       "      <td>0</td>\n",
       "      <td>0</td>\n",
       "      <td>0</td>\n",
       "      <td>0</td>\n",
       "      <td>0</td>\n",
       "      <td>0</td>\n",
       "      <td>3.61</td>\n",
       "      <td>0</td>\n",
       "    </tr>\n",
       "    <tr>\n",
       "      <th>9998</th>\n",
       "      <td>0</td>\n",
       "      <td>0</td>\n",
       "      <td>0</td>\n",
       "      <td>0</td>\n",
       "      <td>0</td>\n",
       "      <td>0</td>\n",
       "      <td>0</td>\n",
       "      <td>0</td>\n",
       "      <td>0</td>\n",
       "      <td>0</td>\n",
       "      <td>...</td>\n",
       "      <td>0</td>\n",
       "      <td>0</td>\n",
       "      <td>0</td>\n",
       "      <td>0</td>\n",
       "      <td>0</td>\n",
       "      <td>0</td>\n",
       "      <td>0</td>\n",
       "      <td>0</td>\n",
       "      <td>5.41</td>\n",
       "      <td>1</td>\n",
       "    </tr>\n",
       "    <tr>\n",
       "      <th>9999</th>\n",
       "      <td>0</td>\n",
       "      <td>0</td>\n",
       "      <td>0</td>\n",
       "      <td>0</td>\n",
       "      <td>0</td>\n",
       "      <td>0</td>\n",
       "      <td>0</td>\n",
       "      <td>0</td>\n",
       "      <td>0</td>\n",
       "      <td>0</td>\n",
       "      <td>...</td>\n",
       "      <td>0</td>\n",
       "      <td>0</td>\n",
       "      <td>0</td>\n",
       "      <td>0</td>\n",
       "      <td>0</td>\n",
       "      <td>0</td>\n",
       "      <td>0</td>\n",
       "      <td>0</td>\n",
       "      <td>17.01</td>\n",
       "      <td>1</td>\n",
       "    </tr>\n",
       "  </tbody>\n",
       "</table>\n",
       "<p>10000 rows × 125 columns</p>\n",
       "</div>"
      ],
      "text/plain": [
       "n     rs186542490  rs186076999  rs141521929  rs73865608  rs184614511  \\\n",
       "0               0            0            0           0            0   \n",
       "1               0            0            0           0            0   \n",
       "2               0            0            0           0            0   \n",
       "3               0            0            0           0            0   \n",
       "4               0            0            0           0            0   \n",
       "...           ...          ...          ...         ...          ...   \n",
       "9995            0            0            0           0            0   \n",
       "9996            0            0            0           0            0   \n",
       "9997            0            0            0           0            0   \n",
       "9998            0            0            0           0            0   \n",
       "9999            0            0            0           0            0   \n",
       "\n",
       "n     rs193129245  rs150061627  rs190457471  rs141387448  rs117760708  ...  \\\n",
       "0               0            0            0            0            0  ...   \n",
       "1               0            0            0            0            0  ...   \n",
       "2               0            0            0            0            0  ...   \n",
       "3               0            0            0            0            0  ...   \n",
       "4               0            0            0            0            0  ...   \n",
       "...           ...          ...          ...          ...          ...  ...   \n",
       "9995            0            0            0            0            0  ...   \n",
       "9996            0            0            0            0            0  ...   \n",
       "9997            0            0            0            0            0  ...   \n",
       "9998            0            0            0            0            0  ...   \n",
       "9999            0            0            0            0            0  ...   \n",
       "\n",
       "n     rs144998240  rs138543081  rs192013290  rs144077517  rs142835438  \\\n",
       "0               0            0            0            0            0   \n",
       "1               0            0            0            0            0   \n",
       "2               0            0            0            0            0   \n",
       "3               0            0            0            0            0   \n",
       "4               0            0            0            0            0   \n",
       "...           ...          ...          ...          ...          ...   \n",
       "9995            0            0            0            0            0   \n",
       "9996            0            0            0            0            0   \n",
       "9997            0            0            0            0            0   \n",
       "9998            0            0            0            0            0   \n",
       "9999            0            0            0            0            0   \n",
       "\n",
       "n     rs184695264  rs921390  rs150291119    prs  label  \n",
       "0               0         0            0   7.06      0  \n",
       "1               0         0            0   1.11      0  \n",
       "2               0         0            0   5.87      0  \n",
       "3               0         0            0   4.62      0  \n",
       "4               0         0            0   2.17      0  \n",
       "...           ...       ...          ...    ...    ...  \n",
       "9995            0         0            0   3.18      0  \n",
       "9996            0         0            0   7.91      0  \n",
       "9997            0         0            0   3.61      0  \n",
       "9998            0         0            0   5.41      1  \n",
       "9999            0         0            0  17.01      1  \n",
       "\n",
       "[10000 rows x 125 columns]"
      ]
     },
     "execution_count": 20,
     "metadata": {},
     "output_type": "execute_result"
    }
   ],
   "source": [
    "simulated_df"
   ]
  },
  {
   "cell_type": "code",
   "execution_count": null,
   "metadata": {},
   "outputs": [],
   "source": []
  }
 ],
 "metadata": {
  "kernelspec": {
   "display_name": "Python 3",
   "language": "python",
   "name": "python3"
  },
  "language_info": {
   "codemirror_mode": {
    "name": "ipython",
    "version": 3
   },
   "file_extension": ".py",
   "mimetype": "text/x-python",
   "name": "python",
   "nbconvert_exporter": "python",
   "pygments_lexer": "ipython3",
   "version": "3.7.6"
  }
 },
 "nbformat": 4,
 "nbformat_minor": 4
}
